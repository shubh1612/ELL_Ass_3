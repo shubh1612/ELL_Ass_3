{
  "nbformat": 4,
  "nbformat_minor": 0,
  "metadata": {
    "colab": {
      "name": "fashion.ipynb",
      "version": "0.3.2",
      "provenance": [],
      "collapsed_sections": [
        "I5J70z1vXdgf",
        "wlOWthACXdhU",
        "PdjCaw_j_40x"
      ],
      "toc_visible": true
    },
    "kernelspec": {
      "name": "python3",
      "display_name": "Python 3"
    },
    "accelerator": "GPU"
  },
  "cells": [
    {
      "metadata": {
        "id": "PBee7-z7Xdee",
        "colab_type": "code",
        "colab": {}
      },
      "cell_type": "code",
      "source": [
        "import numpy as np\n",
        "import pandas as pd\n",
        "\n",
        "import matplotlib\n",
        "import matplotlib.pyplot as plt\n",
        "import matplotlib.cm as cm\n",
        "from mpl_toolkits.mplot3d import Axes3D\n",
        "\n",
        "#import data_util as du\n",
        "#import performance_util as pu\n",
        "import importlib\n",
        "#from PCA import PCA\n",
        "\n",
        "#import softmax_logit as logsoft\n",
        "\n",
        "%matplotlib inline\n",
        "data_dir = 'content/drive/sam/X_test.csv'\n",
        "\n",
        "\n",
        "import math\n",
        "import numpy as np\n",
        "import h5py\n",
        "import matplotlib.pyplot as plt\n",
        "import tensorflow as tf\n",
        "from tensorflow.python.framework import ops\n",
        "\n",
        "def load_dataset():\n",
        "    train_dataset = h5py.File('datasets/train_signs.h5', \"r\")\n",
        "    train_set_x_orig = np.array(train_dataset[\"train_set_x\"][:]) # your train set features\n",
        "    train_set_y_orig = np.array(train_dataset[\"train_set_y\"][:]) # your train set labels\n",
        "\n",
        "    test_dataset = h5py.File('datasets/test_signs.h5', \"r\")\n",
        "    test_set_x_orig = np.array(test_dataset[\"test_set_x\"][:]) # your test set features\n",
        "    test_set_y_orig = np.array(test_dataset[\"test_set_y\"][:]) # your test set labels\n",
        "\n",
        "    classes = np.array(test_dataset[\"list_classes\"][:]) # the list of classes\n",
        "    \n",
        "    train_set_y_orig = train_set_y_orig.reshape((1, train_set_y_orig.shape[0]))\n",
        "    test_set_y_orig = test_set_y_orig.reshape((1, test_set_y_orig.shape[0]))\n",
        "    \n",
        "    return train_set_x_orig, train_set_y_orig, test_set_x_orig, test_set_y_orig, classes\n",
        "\n",
        "\n",
        "def random_mini_batches(X, Y, mini_batch_size = 64, seed = 0):\n",
        "    \"\"\"\n",
        "    Creates a list of random minibatches from (X, Y)\n",
        "    \n",
        "    Arguments:\n",
        "    X -- input data, of shape (input size, number of examples) (m, Hi, Wi, Ci)\n",
        "    Y -- true \"label\" vector (containing 0 if cat, 1 if non-cat), of shape (1, number of examples) (m, n_y)\n",
        "    mini_batch_size - size of the mini-batches, integer\n",
        "    seed -- this is only for the purpose of grading, so that you're \"random minibatches are the same as ours.\n",
        "    \n",
        "    Returns:\n",
        "    mini_batches -- list of synchronous (mini_batch_X, mini_batch_Y)\n",
        "    \"\"\"\n",
        "    \n",
        "    m = X.shape[0]                  # number of training examples\n",
        "    mini_batches = []\n",
        "    np.random.seed(seed)\n",
        "    \n",
        "    # Step 1: Shuffle (X, Y)\n",
        "    permutation = list(np.random.permutation(m))\n",
        "    shuffled_X = X[permutation,:,:,:]\n",
        "    shuffled_Y = Y[permutation,:]\n",
        "\n",
        "    # Step 2: Partition (shuffled_X, shuffled_Y). Minus the end case.\n",
        "    num_complete_minibatches = math.floor(m/mini_batch_size) # number of mini batches of size mini_batch_size in your partitionning\n",
        "    for k in range(0, num_complete_minibatches):\n",
        "        mini_batch_X = shuffled_X[k * mini_batch_size : k * mini_batch_size + mini_batch_size,:,:,:]\n",
        "        mini_batch_Y = shuffled_Y[k * mini_batch_size : k * mini_batch_size + mini_batch_size,:]\n",
        "        mini_batch = (mini_batch_X, mini_batch_Y)\n",
        "        mini_batches.append(mini_batch)\n",
        "    \n",
        "    # Handling the end case (last mini-batch < mini_batch_size)\n",
        "    if m % mini_batch_size != 0:\n",
        "        mini_batch_X = shuffled_X[num_complete_minibatches * mini_batch_size : m,:,:,:]\n",
        "        mini_batch_Y = shuffled_Y[num_complete_minibatches * mini_batch_size : m,:]\n",
        "        mini_batch = (mini_batch_X, mini_batch_Y)\n",
        "        mini_batches.append(mini_batch)\n",
        "    \n",
        "    return mini_batches\n",
        "\n",
        "\n",
        "def convert_to_one_hot(Y, C):\n",
        "    Y = np.eye(C)[Y.reshape(-1)].T\n",
        "    return Y\n",
        "\n",
        "\n",
        "def forward_propagation_for_predict(X, parameters):\n",
        "    \"\"\"\n",
        "    Implements the forward propagation for the model: LINEAR -> RELU -> LINEAR -> RELU -> LINEAR -> SOFTMAX\n",
        "    \n",
        "    Arguments:\n",
        "    X -- input dataset placeholder, of shape (input size, number of examples)\n",
        "    parameters -- python dictionary containing your parameters \"W1\", \"b1\", \"W2\", \"b2\", \"W3\", \"b3\"\n",
        "                  the shapes are given in initialize_parameters\n",
        "\n",
        "    Returns:\n",
        "    Z3 -- the output of the last LINEAR unit\n",
        "    \"\"\"\n",
        "    \n",
        "    # Retrieve the parameters from the dictionary \"parameters\" \n",
        "    W1 = parameters['W1']\n",
        "    b1 = parameters['b1']\n",
        "    W2 = parameters['W2']\n",
        "    b2 = parameters['b2']\n",
        "    W3 = parameters['W3']\n",
        "    b3 = parameters['b3'] \n",
        "                                                           # Numpy Equivalents:\n",
        "    Z1 = tf.add(tf.matmul(W1, X), b1)                      # Z1 = np.dot(W1, X) + b1\n",
        "    A1 = tf.nn.relu(Z1)                                    # A1 = relu(Z1)\n",
        "    Z2 = tf.add(tf.matmul(W2, A1), b2)                     # Z2 = np.dot(W2, a1) + b2\n",
        "    A2 = tf.nn.relu(Z2)                                    # A2 = relu(Z2)\n",
        "    Z3 = tf.add(tf.matmul(W3, A2), b3)                     # Z3 = np.dot(W3,Z2) + b3\n",
        "    \n",
        "    return Z3\n",
        "\n",
        "def predict(X, parameters):\n",
        "    \n",
        "    W1 = tf.convert_to_tensor(parameters[\"W1\"])\n",
        "    b1 = tf.convert_to_tensor(parameters[\"b1\"])\n",
        "    W2 = tf.convert_to_tensor(parameters[\"W2\"])\n",
        "    b2 = tf.convert_to_tensor(parameters[\"b2\"])\n",
        "    W3 = tf.convert_to_tensor(parameters[\"W3\"])\n",
        "    b3 = tf.convert_to_tensor(parameters[\"b3\"])\n",
        "    \n",
        "    params = {\"W1\": W1,\n",
        "              \"b1\": b1,\n",
        "              \"W2\": W2,\n",
        "              \"b2\": b2,\n",
        "              \"W3\": W3,\n",
        "              \"b3\": b3}\n",
        "    \n",
        "    x = tf.placeholder(\"float\", [12288, 1])\n",
        "    \n",
        "    z3 = forward_propagation_for_predict(x, params)\n",
        "    p = tf.argmax(z3)\n",
        "    \n",
        "    sess = tf.Session()\n",
        "    prediction = sess.run(p, feed_dict = {x: X})\n",
        "        \n",
        "    return prediction\n",
        "\n",
        "#def predict(X, parameters):\n",
        "#    \n",
        "#    W1 = tf.convert_to_tensor(parameters[\"W1\"])\n",
        "#    b1 = tf.convert_to_tensor(parameters[\"b1\"])\n",
        "#    W2 = tf.convert_to_tensor(parameters[\"W2\"])\n",
        "#    b2 = tf.convert_to_tensor(parameters[\"b2\"])\n",
        "##    W3 = tf.convert_to_tensor(parameters[\"W3\"])\n",
        "##    b3 = tf.convert_to_tensor(parameters[\"b3\"])\n",
        "#    \n",
        "##    params = {\"W1\": W1,\n",
        "##              \"b1\": b1,\n",
        "##              \"W2\": W2,\n",
        "##              \"b2\": b2,\n",
        "##              \"W3\": W3,\n",
        "##              \"b3\": b3}\n",
        "#\n",
        "#    params = {\"W1\": W1,\n",
        "#              \"b1\": b1,\n",
        "#              \"W2\": W2,\n",
        "#              \"b2\": b2}    \n",
        "#    \n",
        "#    x = tf.placeholder(\"float\", [12288, 1])\n",
        "#    \n",
        "#    z3 = forward_propagation(x, params)\n",
        "#    p = tf.argmax(z3)\n",
        "#    \n",
        "#    with tf.Session() as sess:\n",
        "#        prediction = sess.run(p, feed_dict = {x: X})\n",
        "#        \n",
        "#    return prediction\n",
        "\n",
        "\n",
        "\n",
        "\n",
        "\n",
        "\n",
        "\n",
        "\n",
        "\n",
        "\n",
        "\n",
        "import numpy as np\n",
        "import pandas as pd\n",
        "import gzip\n",
        "import glob\n",
        "from scipy import misc\n",
        "# Reference - https://github.com/zalandoresearch/fashion-mnist/blob/master/utils/mnist_reader.py\n",
        "# Returns flattened images and correponding labels\n",
        "def load_mnistx(path, nlabels):\n",
        "\tX_train =[]\n",
        "\tY_train = []\n",
        "\tfor i in range(nlabels):\n",
        "\t    for image_path in glob.glob(path+str(i)+ \"/*.png\" ) :\n",
        "\t        image = misc.imread(image_path)\n",
        "\t        image = image.reshape(784,)\n",
        "\t        X_train.append(image)\n",
        "\t        Y_train.append(i)\n",
        "\tY_train = np.asarray(Y_train)        \n",
        "\tX_train = np.asarray(X_train)\n",
        "\treturn X_train, Y_train\t\n",
        "def load_fashion_mnist(path, label_present = True):\n",
        "\t\"\"\"Load MNIST data from `path`\"\"\"\n",
        "\tlabels_path = path + '_labels/data/'\n",
        "\timages_path = path + '_images/data/'\n",
        "\t\n",
        "\tlabels = []\n",
        "\tif label_present:\n",
        "\t\twith gzip.open(labels_path, 'rb') as lbpath:\n",
        "\t\t\tlabels = np.frombuffer(lbpath.read(), dtype=np.uint8, offset=8)\t\n",
        "\t\tlabels = np.expand_dims(labels, axis = 1)\n",
        "\n",
        "\twith gzip.open(images_path, 'rb') as imgpath:\n",
        "\t\timages = np.frombuffer(imgpath.read(), dtype=np.uint8, offset=16).reshape(len(labels), 784)\n",
        "\n",
        "\tif label_present:\n",
        "\t\treturn images, labels\n",
        "\n",
        "\treturn images\n",
        "\n",
        "def load_mnist(path, kind='train'):\n",
        "    import os\n",
        "    import gzip\n",
        "    import numpy as np\n",
        "\n",
        "    \"\"\"Load MNIST data from `path`\"\"\"\n",
        "    labels_path = os.path.join(path,\n",
        "                               '%s-labels-idx1-ubyte.gz'\n",
        "                               % kind)\n",
        "    images_path = os.path.join(path,\n",
        "                               '%s-images-idx3-ubyte.gz'\n",
        "                               % kind)\n",
        "\n",
        "    with gzip.open(labels_path, 'rb') as lbpath:\n",
        "        labels = np.frombuffer(lbpath.read(), dtype=np.uint8,\n",
        "                               offset=8)\n",
        "\n",
        "    with gzip.open(images_path, 'rb') as imgpath:\n",
        "        images = np.frombuffer(imgpath.read(), dtype=np.uint8,\n",
        "                               offset=16).reshape(len(labels), 784)\n",
        "\n",
        "    return images, labels\n",
        "\n",
        "def load_medical(path, label_map, label_present = True):\n",
        "\tdf = pd.read_csv(path)\n",
        "\tdf.fillna(df.mean(), inplace=True)\n",
        "\n",
        "\tdf = df.applymap(lambda s: label_map.get(s) if s in label_map else s)\n",
        "\n",
        "\tX = df[['TEST1' , 'TEST2', 'TEST3']].as_matrix()\n",
        "\t\n",
        "\tif label_present:\n",
        "\t\tY = df[['Health']].as_matrix()\n",
        "\t\treturn X, Y\n",
        "\n",
        "\treturn X\n",
        "\n",
        "def load_railway(path, sex_map, class_map, label_present = True, one_hot = True):\n",
        "\tdf = pd.read_csv(path)\n",
        "\tdf.fillna(df.mode().iloc[0], inplace=True)\n",
        "\n",
        "\tdf = df.applymap(lambda s: sex_map.get(s) if s in sex_map else s)\n",
        "\tdf = df.applymap(lambda s: class_map.get(s) if s in class_map else s)\n",
        "\n",
        "\tX = df[['budget', 'memberCount', 'preferredClass', 'sex', 'age']].as_matrix()\n",
        "\n",
        "\tunique_pc = np.unique((df['preferredClass'].values))\n",
        "\tpC = np.zeros(X.shape[0], unique_pc[-1])\n",
        "\tpC[np.arange(X.shape[0]), df['preferredClass'].values] = 1\n",
        "\n",
        "\tsx = np.zeros(X.shape[0], 1)\n",
        "\tsx[np.arange(X.shape[0]), df['sex'].values] = 1\n",
        "\n",
        "\tX_one_hot = np.hstack((df[['budget', 'memberCount', 'age']].as_matrix(), pC, sx)) \n",
        "\n",
        "\tif label_present:\n",
        "\t\tY = df[['boarded']].as_matrix()\n",
        "\t\tif one_hot:\n",
        "\t\t\treturn X_one_hot, Y\n",
        "\t\treturn X, Y\n",
        "\n",
        "\tif one_hot:\n",
        "\t\treturn X_one_hot\n",
        "\treturn X \n",
        "\n",
        "def split_data(X, Y, train_ratio, random_state = 0):\n",
        "\tdata = np.random.RandomState(seed = random_state).permutation(np.hstack((X, Y)))\n",
        "\n",
        "\tdata_train = data[:int(train_ratio * data.shape[0]),:]\n",
        "\tdata_test = data[int(train_ratio * data.shape[0]):,:]\n",
        "\n",
        "\treturn data_train[:, :-1], data_train[:, -1:], data_test[:, :-1], data_test[:, -1:]\n",
        "\n",
        "def normalize(X, std_tol = 0.00001):\n",
        "\tX = X.astype('float')\n",
        "\tmu = np.mean(X, axis = 0)\n",
        "\tstd = np.std(X, axis = 0)\n",
        "\tstd[std < std_tol] = 1\n",
        "\n",
        "\treturn (X - mu)/std, mu, std\n",
        "\n",
        "\n",
        "def normalize2(X, std_tol = 0.00001):\n",
        "\tX = X.astype('float')\n",
        "\t\n",
        "\tnorm = np.expand_dims(np.linalg.norm(X, axis = 1) , axis = 1)\n",
        "\tnorm[norm < std_tol] = 1\n",
        "\n",
        "\treturn X/norm\n",
        "\n",
        "\n",
        "\n",
        "def load_mnist(path, kind='train'):\n",
        "    import os\n",
        "    import gzip\n",
        "    import numpy as np\n",
        "\n",
        "    \"\"\"Load MNIST data from `path`\"\"\"\n",
        "    labels_path = os.path.join(path,\n",
        "                               '%s-labels-idx1-ubyte.gz'\n",
        "                               % kind)\n",
        "    images_path = os.path.join(path,\n",
        "                               '%s-images-idx3-ubyte.gz'\n",
        "                               % kind)\n",
        "\n",
        "    with gzip.open(labels_path, 'rb') as lbpath:\n",
        "        labels = np.frombuffer(lbpath.read(), dtype=np.uint8,\n",
        "                               offset=8)\n",
        "\n",
        "    with gzip.open(images_path, 'rb') as imgpath:\n",
        "        images = np.frombuffer(imgpath.read(), dtype=np.uint8,\n",
        "                               offset=16).reshape(len(labels), 784)\n",
        "\n",
        "    return images, labels\n",
        "\n",
        "\n",
        "\n",
        "data_dir2 = '/content/drive/sam/data/mnist/'\n",
        "random_seed = 1\n",
        "np.set_printoptions(precision=4)"
      ],
      "execution_count": 0,
      "outputs": []
    },
    {
      "metadata": {
        "id": "v--_ATusXde3",
        "colab_type": "code",
        "outputId": "0f4dc4f7-5a52-4ce3-fb9f-ec24ba74adaf",
        "colab": {
          "base_uri": "https://localhost:8080/",
          "height": 68
        }
      },
      "cell_type": "code",
      "source": [
        "X_train, Y_train = load_mnist(data_dir2)\n",
        "#Y_train = Y_train.reshape(len(Y_train) , 1)\n",
        "\n",
        "#X_val, Y_val = du.load_fashion_mnist(data_dir + 't10k')\n",
        "\n",
        "print(X_train.shape)\n",
        "print(Y_train.shape)\n",
        "\n",
        "#X_test, Y_test = du.load_mnistx(data_dir,10)\n",
        "#Y_test = Y_test.reshape(len(Y_test), 1)\n",
        "\n",
        "\n",
        "#print(X_test.shape)\n",
        "#print(Y_test.shape)\n",
        "\n",
        "X_val, Y_val = load_mnist(data_dir2, 't10k')\n",
        "X_val = normalize2(X_val)\n",
        "print(Y_val.shape)"
      ],
      "execution_count": 0,
      "outputs": [
        {
          "output_type": "stream",
          "text": [
            "(60000, 784)\n",
            "(60000,)\n",
            "(10000,)\n"
          ],
          "name": "stdout"
        }
      ]
    },
    {
      "metadata": {
        "id": "G_A-bF0W07VK",
        "colab_type": "code",
        "colab": {}
      },
      "cell_type": "code",
      "source": [
        "!kill -9 -1"
      ],
      "execution_count": 0,
      "outputs": []
    },
    {
      "metadata": {
        "id": "YIDlHEBwwSL6",
        "colab_type": "code",
        "outputId": "59811846-eb5e-46db-c358-c799375df487",
        "colab": {
          "base_uri": "https://localhost:8080/",
          "height": 1798
        }
      },
      "cell_type": "code",
      "source": [
        "\n",
        "\n",
        "!apt-get install -y -qq software-properties-common python-software-properties module-init-tools\n",
        "!add-apt-repository -y ppa:alessandro-strada/ppa 2>&1 > /dev/null\n",
        "!apt-get update -qq 2>&1 > /dev/null\n",
        "!apt-get -y install -qq google-drive-ocamlfuse fuse\n",
        "from google.colab import auth\n",
        "auth.authenticate_user()\n",
        "from oauth2client.client import GoogleCredentials\n",
        "creds = GoogleCredentials.get_application_default()\n",
        "import getpass\n",
        "!google-drive-ocamlfuse -headless -id={creds.client_id} -secret={creds.client_secret} < /dev/null 2>&1 | grep URL\n",
        "vcode = getpass.getpass()\n",
        "!echo {vcode} | google-drive-ocamlfuse -headless -id={creds.client_id} -secret={creds.client_secret}\n",
        "\n",
        "!mkdir -p drive\n",
        "!google-drive-ocamlfuse drive\n",
        "\n"
      ],
      "execution_count": 0,
      "outputs": [
        {
          "output_type": "stream",
          "text": [
            "E: Package 'python-software-properties' has no installation candidate\n",
            "Traceback (most recent call last):\n",
            "  File \"/usr/bin/add-apt-repository\", line 136, in <module>\n",
            "    shortcut = shortcut_handler(line)\n",
            "  File \"/usr/lib/python3/dist-packages/softwareproperties/SoftwareProperties.py\", line 1020, in shortcut_handler\n",
            "    ret = factory(shortcut)\n",
            "  File \"/usr/lib/python3/dist-packages/softwareproperties/ppa.py\", line 398, in shortcut_handler\n",
            "    return PPAShortcutHandler(shortcut)\n",
            "  File \"/usr/lib/python3/dist-packages/softwareproperties/ppa.py\", line 355, in __init__\n",
            "    info = get_ppa_info(self.shortcut)\n",
            "  File \"/usr/lib/python3/dist-packages/softwareproperties/ppa.py\", line 326, in get_ppa_info\n",
            "    ret = get_ppa_info_from_lp(user, ppa)\n",
            "  File \"/usr/lib/python3/dist-packages/softwareproperties/ppa.py\", line 101, in get_ppa_info_from_lp\n",
            "    return get_info_from_lp(lp_url)\n",
            "  File \"/usr/lib/python3/dist-packages/softwareproperties/ppa.py\", line 95, in get_info_from_lp\n",
            "    return get_info_from_https(lp_url, True)\n",
            "  File \"/usr/lib/python3/dist-packages/softwareproperties/ppa.py\", line 88, in get_info_from_https\n",
            "    data = _get_https_content_py3(url, accept_json)\n",
            "  File \"/usr/lib/python3/dist-packages/softwareproperties/ppa.py\", line 120, in _get_https_content_py3\n",
            "    lp_page = urllib.request.urlopen(request, cafile=LAUNCHPAD_PPA_CERT)\n",
            "  File \"/usr/lib/python3.6/urllib/request.py\", line 223, in urlopen\n",
            "    return opener.open(url, data, timeout)\n",
            "  File \"/usr/lib/python3.6/urllib/request.py\", line 526, in open\n",
            "    response = self._open(req, data)\n",
            "  File \"/usr/lib/python3.6/urllib/request.py\", line 544, in _open\n",
            "    '_open', req)\n",
            "  File \"/usr/lib/python3.6/urllib/request.py\", line 504, in _call_chain\n",
            "    result = func(*args)\n",
            "  File \"/usr/lib/python3.6/urllib/request.py\", line 1361, in https_open\n",
            "    context=self._context, check_hostname=self._check_hostname)\n",
            "  File \"/usr/lib/python3.6/urllib/request.py\", line 1318, in do_open\n",
            "    encode_chunked=req.has_header('Transfer-encoding'))\n",
            "  File \"/usr/lib/python3.6/http/client.py\", line 1239, in request\n",
            "    self._send_request(method, url, body, headers, encode_chunked)\n",
            "  File \"/usr/lib/python3.6/http/client.py\", line 1285, in _send_request\n",
            "    self.endheaders(body, encode_chunked=encode_chunked)\n",
            "  File \"/usr/lib/python3.6/http/client.py\", line 1234, in endheaders\n",
            "    self._send_output(message_body, encode_chunked=encode_chunked)\n",
            "  File \"/usr/lib/python3.6/http/client.py\", line 1026, in _send_output\n",
            "    self.send(msg)\n",
            "  File \"/usr/lib/python3.6/http/client.py\", line 964, in send\n",
            "    self.connect()\n",
            "  File \"/usr/lib/python3.6/http/client.py\", line 1392, in connect\n",
            "    super().connect()\n",
            "  File \"/usr/lib/python3.6/http/client.py\", line 936, in connect\n",
            "    (self.host,self.port), self.timeout, self.source_address)\n",
            "  File \"/usr/lib/python3.6/socket.py\", line 713, in create_connection\n",
            "    sock.connect(sa)\n",
            "KeyboardInterrupt\n"
          ],
          "name": "stdout"
        },
        {
          "output_type": "error",
          "ename": "KeyboardInterrupt",
          "evalue": "ignored",
          "traceback": [
            "\u001b[0;31m---------------------------------------------------------------------------\u001b[0m",
            "\u001b[0;31mKeyboardInterrupt\u001b[0m                         Traceback (most recent call last)",
            "\u001b[0;32m/usr/local/lib/python3.6/dist-packages/ipykernel/kernelbase.py\u001b[0m in \u001b[0;36m_input_request\u001b[0;34m(self, prompt, ident, parent, password)\u001b[0m\n\u001b[1;32m    729\u001b[0m             \u001b[0;32mtry\u001b[0m\u001b[0;34m:\u001b[0m\u001b[0;34m\u001b[0m\u001b[0;34m\u001b[0m\u001b[0m\n\u001b[0;32m--> 730\u001b[0;31m                 \u001b[0mident\u001b[0m\u001b[0;34m,\u001b[0m \u001b[0mreply\u001b[0m \u001b[0;34m=\u001b[0m \u001b[0mself\u001b[0m\u001b[0;34m.\u001b[0m\u001b[0msession\u001b[0m\u001b[0;34m.\u001b[0m\u001b[0mrecv\u001b[0m\u001b[0;34m(\u001b[0m\u001b[0mself\u001b[0m\u001b[0;34m.\u001b[0m\u001b[0mstdin_socket\u001b[0m\u001b[0;34m,\u001b[0m \u001b[0;36m0\u001b[0m\u001b[0;34m)\u001b[0m\u001b[0;34m\u001b[0m\u001b[0;34m\u001b[0m\u001b[0m\n\u001b[0m\u001b[1;32m    731\u001b[0m             \u001b[0;32mexcept\u001b[0m \u001b[0mException\u001b[0m\u001b[0;34m:\u001b[0m\u001b[0;34m\u001b[0m\u001b[0;34m\u001b[0m\u001b[0m\n",
            "\u001b[0;32m/usr/local/lib/python3.6/dist-packages/jupyter_client/session.py\u001b[0m in \u001b[0;36mrecv\u001b[0;34m(self, socket, mode, content, copy)\u001b[0m\n\u001b[1;32m    802\u001b[0m         \u001b[0;32mtry\u001b[0m\u001b[0;34m:\u001b[0m\u001b[0;34m\u001b[0m\u001b[0;34m\u001b[0m\u001b[0m\n\u001b[0;32m--> 803\u001b[0;31m             \u001b[0mmsg_list\u001b[0m \u001b[0;34m=\u001b[0m \u001b[0msocket\u001b[0m\u001b[0;34m.\u001b[0m\u001b[0mrecv_multipart\u001b[0m\u001b[0;34m(\u001b[0m\u001b[0mmode\u001b[0m\u001b[0;34m,\u001b[0m \u001b[0mcopy\u001b[0m\u001b[0;34m=\u001b[0m\u001b[0mcopy\u001b[0m\u001b[0;34m)\u001b[0m\u001b[0;34m\u001b[0m\u001b[0;34m\u001b[0m\u001b[0m\n\u001b[0m\u001b[1;32m    804\u001b[0m         \u001b[0;32mexcept\u001b[0m \u001b[0mzmq\u001b[0m\u001b[0;34m.\u001b[0m\u001b[0mZMQError\u001b[0m \u001b[0;32mas\u001b[0m \u001b[0me\u001b[0m\u001b[0;34m:\u001b[0m\u001b[0;34m\u001b[0m\u001b[0;34m\u001b[0m\u001b[0m\n",
            "\u001b[0;32m/usr/local/lib/python3.6/dist-packages/zmq/sugar/socket.py\u001b[0m in \u001b[0;36mrecv_multipart\u001b[0;34m(self, flags, copy, track)\u001b[0m\n\u001b[1;32m    465\u001b[0m         \"\"\"\n\u001b[0;32m--> 466\u001b[0;31m         \u001b[0mparts\u001b[0m \u001b[0;34m=\u001b[0m \u001b[0;34m[\u001b[0m\u001b[0mself\u001b[0m\u001b[0;34m.\u001b[0m\u001b[0mrecv\u001b[0m\u001b[0;34m(\u001b[0m\u001b[0mflags\u001b[0m\u001b[0;34m,\u001b[0m \u001b[0mcopy\u001b[0m\u001b[0;34m=\u001b[0m\u001b[0mcopy\u001b[0m\u001b[0;34m,\u001b[0m \u001b[0mtrack\u001b[0m\u001b[0;34m=\u001b[0m\u001b[0mtrack\u001b[0m\u001b[0;34m)\u001b[0m\u001b[0;34m]\u001b[0m\u001b[0;34m\u001b[0m\u001b[0;34m\u001b[0m\u001b[0m\n\u001b[0m\u001b[1;32m    467\u001b[0m         \u001b[0;31m# have first part already, only loop while more to receive\u001b[0m\u001b[0;34m\u001b[0m\u001b[0;34m\u001b[0m\u001b[0;34m\u001b[0m\u001b[0m\n",
            "\u001b[0;32mzmq/backend/cython/socket.pyx\u001b[0m in \u001b[0;36mzmq.backend.cython.socket.Socket.recv\u001b[0;34m()\u001b[0m\n",
            "\u001b[0;32mzmq/backend/cython/socket.pyx\u001b[0m in \u001b[0;36mzmq.backend.cython.socket.Socket.recv\u001b[0;34m()\u001b[0m\n",
            "\u001b[0;32mzmq/backend/cython/socket.pyx\u001b[0m in \u001b[0;36mzmq.backend.cython.socket._recv_copy\u001b[0;34m()\u001b[0m\n",
            "\u001b[0;32m/usr/local/lib/python3.6/dist-packages/zmq/backend/cython/checkrc.pxd\u001b[0m in \u001b[0;36mzmq.backend.cython.checkrc._check_rc\u001b[0;34m()\u001b[0m\n",
            "\u001b[0;31mKeyboardInterrupt\u001b[0m: ",
            "\nDuring handling of the above exception, another exception occurred:\n",
            "\u001b[0;31mKeyboardInterrupt\u001b[0m                         Traceback (most recent call last)",
            "\u001b[0;32m<ipython-input-3-89a505ecef69>\u001b[0m in \u001b[0;36m<module>\u001b[0;34m()\u001b[0m\n\u001b[1;32m     11\u001b[0m \u001b[0;32mimport\u001b[0m \u001b[0mgetpass\u001b[0m\u001b[0;34m\u001b[0m\u001b[0;34m\u001b[0m\u001b[0m\n\u001b[1;32m     12\u001b[0m \u001b[0mget_ipython\u001b[0m\u001b[0;34m(\u001b[0m\u001b[0;34m)\u001b[0m\u001b[0;34m.\u001b[0m\u001b[0msystem\u001b[0m\u001b[0;34m(\u001b[0m\u001b[0;34m'google-drive-ocamlfuse -headless -id={creds.client_id} -secret={creds.client_secret} < /dev/null 2>&1 | grep URL'\u001b[0m\u001b[0;34m)\u001b[0m\u001b[0;34m\u001b[0m\u001b[0;34m\u001b[0m\u001b[0m\n\u001b[0;32m---> 13\u001b[0;31m \u001b[0mvcode\u001b[0m \u001b[0;34m=\u001b[0m \u001b[0mgetpass\u001b[0m\u001b[0;34m.\u001b[0m\u001b[0mgetpass\u001b[0m\u001b[0;34m(\u001b[0m\u001b[0;34m)\u001b[0m\u001b[0;34m\u001b[0m\u001b[0;34m\u001b[0m\u001b[0m\n\u001b[0m\u001b[1;32m     14\u001b[0m \u001b[0mget_ipython\u001b[0m\u001b[0;34m(\u001b[0m\u001b[0;34m)\u001b[0m\u001b[0;34m.\u001b[0m\u001b[0msystem\u001b[0m\u001b[0;34m(\u001b[0m\u001b[0;34m'echo {vcode} | google-drive-ocamlfuse -headless -id={creds.client_id} -secret={creds.client_secret}'\u001b[0m\u001b[0;34m)\u001b[0m\u001b[0;34m\u001b[0m\u001b[0;34m\u001b[0m\u001b[0m\n\u001b[1;32m     15\u001b[0m \u001b[0;34m\u001b[0m\u001b[0m\n",
            "\u001b[0;32m/usr/local/lib/python3.6/dist-packages/ipykernel/kernelbase.py\u001b[0m in \u001b[0;36mgetpass\u001b[0;34m(self, prompt, stream)\u001b[0m\n\u001b[1;32m    686\u001b[0m             \u001b[0mself\u001b[0m\u001b[0;34m.\u001b[0m\u001b[0m_parent_ident\u001b[0m\u001b[0;34m,\u001b[0m\u001b[0;34m\u001b[0m\u001b[0;34m\u001b[0m\u001b[0m\n\u001b[1;32m    687\u001b[0m             \u001b[0mself\u001b[0m\u001b[0;34m.\u001b[0m\u001b[0m_parent_header\u001b[0m\u001b[0;34m,\u001b[0m\u001b[0;34m\u001b[0m\u001b[0;34m\u001b[0m\u001b[0m\n\u001b[0;32m--> 688\u001b[0;31m             \u001b[0mpassword\u001b[0m\u001b[0;34m=\u001b[0m\u001b[0;32mTrue\u001b[0m\u001b[0;34m,\u001b[0m\u001b[0;34m\u001b[0m\u001b[0;34m\u001b[0m\u001b[0m\n\u001b[0m\u001b[1;32m    689\u001b[0m         )\n\u001b[1;32m    690\u001b[0m \u001b[0;34m\u001b[0m\u001b[0m\n",
            "\u001b[0;32m/usr/local/lib/python3.6/dist-packages/ipykernel/kernelbase.py\u001b[0m in \u001b[0;36m_input_request\u001b[0;34m(self, prompt, ident, parent, password)\u001b[0m\n\u001b[1;32m    733\u001b[0m             \u001b[0;32mexcept\u001b[0m \u001b[0mKeyboardInterrupt\u001b[0m\u001b[0;34m:\u001b[0m\u001b[0;34m\u001b[0m\u001b[0;34m\u001b[0m\u001b[0m\n\u001b[1;32m    734\u001b[0m                 \u001b[0;31m# re-raise KeyboardInterrupt, to truncate traceback\u001b[0m\u001b[0;34m\u001b[0m\u001b[0;34m\u001b[0m\u001b[0;34m\u001b[0m\u001b[0m\n\u001b[0;32m--> 735\u001b[0;31m                 \u001b[0;32mraise\u001b[0m \u001b[0mKeyboardInterrupt\u001b[0m\u001b[0;34m\u001b[0m\u001b[0;34m\u001b[0m\u001b[0m\n\u001b[0m\u001b[1;32m    736\u001b[0m             \u001b[0;32melse\u001b[0m\u001b[0;34m:\u001b[0m\u001b[0;34m\u001b[0m\u001b[0;34m\u001b[0m\u001b[0m\n\u001b[1;32m    737\u001b[0m                 \u001b[0;32mbreak\u001b[0m\u001b[0;34m\u001b[0m\u001b[0;34m\u001b[0m\u001b[0m\n",
            "\u001b[0;31mKeyboardInterrupt\u001b[0m: "
          ]
        }
      ]
    },
    {
      "metadata": {
        "id": "3MIFaclz5ZJT",
        "colab_type": "code",
        "outputId": "014dfa0b-2be8-4eeb-c6bd-2c285ad208eb",
        "colab": {
          "base_uri": "https://localhost:8080/",
          "height": 136
        }
      },
      "cell_type": "code",
      "source": [
        "!ln -sf /opt/bin/nvidia-smi /usr/bin/nvidia-smi\n",
        "!pip install gputil\n",
        "!pip install psutil\n",
        "!pip install humanize\n",
        "import psutil\n",
        "import humanize\n",
        "import os\n",
        "import GPUtil as GPU\n",
        "GPUs = GPU.getGPUs()\n",
        "# XXX: only one GPU on Colab and isn’t guaranteed\n",
        "gpu = GPUs[0]\n",
        "def printm():\n",
        " process = psutil.Process(os.getpid())\n",
        " print(\"Gen RAM Free:\"  + humanize.naturalsize( psutil.virtual_memory().available ), 'I Proc size:'  + humanize.naturalsize( process.memory_info().rss))\n",
        " print('GPU RAM Free: {0:.0f}MB | Used: {1:.0f}MB | Util {2:3.0f}% | Total {3:.0f}MB'.format(gpu.memoryFree, gpu.memoryUsed, gpu.memoryUtil*100, gpu.memoryTotal))\n",
        "printm()\n",
        "\n",
        "import tensorflow as tf\n",
        "device_name = tf.test.gpu_device_name()\n",
        "if device_name != '/device:GPU:0':\n",
        "  raise SystemError('GPU device not found')\n",
        "print('Found GPU at: {}'.format(device_name))\n"
      ],
      "execution_count": 0,
      "outputs": [
        {
          "output_type": "stream",
          "text": [
            "Requirement already satisfied: gputil in /usr/local/lib/python3.6/dist-packages (1.3.0)\n",
            "Requirement already satisfied: numpy in /usr/local/lib/python3.6/dist-packages (from gputil) (1.14.6)\n",
            "Requirement already satisfied: psutil in /usr/local/lib/python3.6/dist-packages (5.4.8)\n",
            "Requirement already satisfied: humanize in /usr/local/lib/python3.6/dist-packages (0.5.1)\n",
            "Gen RAM Free:12.8 GB I Proc size:534.5 MB\n",
            "GPU RAM Free: 11441MB | Used: 0MB | Util   0% | Total 11441MB\n",
            "Found GPU at: /device:GPU:0\n"
          ],
          "name": "stdout"
        }
      ]
    },
    {
      "metadata": {
        "id": "CnzQEa1ua0WM",
        "colab_type": "code",
        "outputId": "13ee4769-b37c-41ff-ea98-108d04221806",
        "colab": {
          "base_uri": "https://localhost:8080/",
          "height": 85
        }
      },
      "cell_type": "code",
      "source": [
        "X_test = pd.read_csv('/content/drive/sam/X_test.csv', header = None)\n",
        "X_test = X_test.values\n",
        "\n",
        "Y_test = pd.read_csv('/content/drive/sam/Y_test.csv', header = None)\n",
        "Y_test = Y_test.values\n",
        "Y_test = np.reshape(Y_test, (7947,))\n",
        "Y_test = Y_test.astype(int)\n",
        "\n",
        "\n",
        "X_train = normalize2(X_train)\n",
        "X_test = normalize2(X_test)\n",
        "\n",
        "print(X_train.shape)\n",
        "print(Y_train.shape)\n",
        "\n",
        "print(X_test.shape)\n",
        "print(Y_test.shape)"
      ],
      "execution_count": 0,
      "outputs": [
        {
          "output_type": "stream",
          "text": [
            "(60000, 784)\n",
            "(60000,)\n",
            "(7947, 784)\n",
            "(7947,)\n"
          ],
          "name": "stdout"
        }
      ]
    },
    {
      "metadata": {
        "id": "HbdcZV_9XdfN",
        "colab_type": "code",
        "outputId": "dd25d0dc-f2ff-4bcb-b34e-dd5278ab9ad6",
        "colab": {
          "base_uri": "https://localhost:8080/",
          "height": 34
        }
      },
      "cell_type": "code",
      "source": [
        "X_test_2 = pd.read_csv('/content/drive/sam/data/x_test.csv')\n",
        "X_test_2 = X_test_2.values\n",
        "\n",
        "X_test_2 = np.delete(X_test_2,0, 1)\n",
        "X_test_2 = normalize2(X_test_2)\n",
        "\n",
        "X_test_2 = X_test_2.reshape((7947,28,28,1))\n",
        "\n",
        "print(X_test_2.shape)"
      ],
      "execution_count": 0,
      "outputs": [
        {
          "output_type": "stream",
          "text": [
            "(7947, 28, 28, 1)\n"
          ],
          "name": "stdout"
        }
      ]
    },
    {
      "metadata": {
        "id": "9mlZL-SlXdfU",
        "colab_type": "code",
        "outputId": "6ee0daa0-577c-4ae5-ac20-56d461a97a27",
        "colab": {
          "base_uri": "https://localhost:8080/",
          "height": 68
        }
      },
      "cell_type": "code",
      "source": [
        "from sklearn.decomposition import PCA\n",
        "pca = PCA(n_components=100)\n",
        "pca.fit(X_train)\n",
        "\n",
        "X_train_reduced_1 = pca.transform(X_train)\n",
        "X_test_reduced_1 = pca.transform(X_test)\n",
        "\n",
        "print(np.sum(pca.explained_variance_ratio_))\n",
        "\n",
        "\n",
        "print(X_train_reduced_1.shape)\n",
        "print(X_test_reduced_1.shape)"
      ],
      "execution_count": 0,
      "outputs": [
        {
          "output_type": "stream",
          "text": [
            "0.9073432472525402\n",
            "(60000, 100)\n",
            "(7947, 100)\n"
          ],
          "name": "stdout"
        }
      ]
    },
    {
      "metadata": {
        "id": "ozTGK0qpXdfa",
        "colab_type": "text"
      },
      "cell_type": "markdown",
      "source": [
        "# LOGISTIC SOFTMAX"
      ]
    },
    {
      "metadata": {
        "id": "BFhDN6NmXdfb",
        "colab_type": "code",
        "outputId": "7855afc7-e49e-47ae-83bb-4b54781d3222",
        "colab": {
          "base_uri": "https://localhost:8080/",
          "height": 197
        }
      },
      "cell_type": "code",
      "source": [
        "logist= logsoft.softmaxLogit( iterations = 10000, Lambda= 0.0, alpha = 0.05, num_classes =10)\n",
        "\n",
        "logist.fit(X_train_reduced_1, Y_train)"
      ],
      "execution_count": 0,
      "outputs": [
        {
          "output_type": "error",
          "ename": "NameError",
          "evalue": "ignored",
          "traceback": [
            "\u001b[0;31m---------------------------------------------------------------------------\u001b[0m",
            "\u001b[0;31mNameError\u001b[0m                                 Traceback (most recent call last)",
            "\u001b[0;32m<ipython-input-157-5d393438901b>\u001b[0m in \u001b[0;36m<module>\u001b[0;34m()\u001b[0m\n\u001b[0;32m----> 1\u001b[0;31m \u001b[0mlogist\u001b[0m\u001b[0;34m=\u001b[0m \u001b[0mlogsoft\u001b[0m\u001b[0;34m.\u001b[0m\u001b[0msoftmaxLogit\u001b[0m\u001b[0;34m(\u001b[0m \u001b[0miterations\u001b[0m \u001b[0;34m=\u001b[0m \u001b[0;36m10000\u001b[0m\u001b[0;34m,\u001b[0m \u001b[0mLambda\u001b[0m\u001b[0;34m=\u001b[0m \u001b[0;36m0.0\u001b[0m\u001b[0;34m,\u001b[0m \u001b[0malpha\u001b[0m \u001b[0;34m=\u001b[0m \u001b[0;36m0.05\u001b[0m\u001b[0;34m,\u001b[0m \u001b[0mnum_classes\u001b[0m \u001b[0;34m=\u001b[0m\u001b[0;36m10\u001b[0m\u001b[0;34m)\u001b[0m\u001b[0;34m\u001b[0m\u001b[0;34m\u001b[0m\u001b[0m\n\u001b[0m\u001b[1;32m      2\u001b[0m \u001b[0;34m\u001b[0m\u001b[0m\n\u001b[1;32m      3\u001b[0m \u001b[0mlogist\u001b[0m\u001b[0;34m.\u001b[0m\u001b[0mfit\u001b[0m\u001b[0;34m(\u001b[0m\u001b[0mX_train_reduced_1\u001b[0m\u001b[0;34m,\u001b[0m \u001b[0mY_train\u001b[0m\u001b[0;34m)\u001b[0m\u001b[0;34m\u001b[0m\u001b[0;34m\u001b[0m\u001b[0m\n",
            "\u001b[0;31mNameError\u001b[0m: name 'logsoft' is not defined"
          ]
        }
      ]
    },
    {
      "metadata": {
        "id": "0to6DsoJXdff",
        "colab_type": "code",
        "colab": {}
      },
      "cell_type": "code",
      "source": [
        "result= logist.predict(X_test_reduced_1)\n",
        "\n",
        "result = result.reshape((len(X_test_reduced_1),))\n",
        "Y_test_1 = Y_test_1.reshape((len(X_test_reduced_1),))\n",
        "\n",
        "print( \"Accuracy:\" , pu.model_accuracy(result, Y_test_1))"
      ],
      "execution_count": 0,
      "outputs": []
    },
    {
      "metadata": {
        "id": "zJfDOlSWXdfj",
        "colab_type": "code",
        "colab": {}
      },
      "cell_type": "code",
      "source": [
        "result= logist.predict(X_test_reduced_1)\n",
        "\n",
        "result = result.reshape((len(X_test_reduced_1),))\n",
        "Y_test = Y_test.reshape((len(X_test_reduced_1),))\n",
        "\n",
        "#np.savetxt(\"foo.csv\", a, delimiter=\",\")\n",
        "\n",
        "print( \"Accuracy:\" , pu.model_accuracy(result, Y_test))\n",
        "print( \"macro_average: \", pu.model_macro_average(result, Y_test, 10))\n",
        "print(\"micro_average: \", pu.model_micro_average(result, Y_test, 10))\n",
        "print( \"f1: \", pu.model_f1(result, Y_test,10))\n",
        "print(\"precision: \", pu.model_precision(result, Y_test,10))\n",
        "print(\"recall:\", pu.model_recall(result, Y_test,10))\n"
      ],
      "execution_count": 0,
      "outputs": []
    },
    {
      "metadata": {
        "id": "ndH1KYOAXdfn",
        "colab_type": "code",
        "colab": {}
      },
      "cell_type": "code",
      "source": [
        "np.savetxt(\"foo.csv\", Y_test, delimiter=\",\")"
      ],
      "execution_count": 0,
      "outputs": []
    },
    {
      "metadata": {
        "id": "QqumJyNwXdft",
        "colab_type": "code",
        "outputId": "d18b1bdc-be2f-4eac-c7a9-1c9c10093308",
        "colab": {
          "base_uri": "https://localhost:8080/",
          "height": 197
        }
      },
      "cell_type": "code",
      "source": [
        "from sklearn.svm import SVC # \"Support Vector Classifier\" \n",
        "clf = SVC(kernel='rbf') \n",
        "  \n",
        "# fitting x samples and y classes \n",
        "clf.fit(X_train_reduced_1, Y_train)\n",
        "\n",
        "result = clf.predict(X_test_reduced_1) \n",
        "\n",
        "result = result.reshape((len(X_test_reduced_1),))\n",
        "Y_test = Y_test.reshape((len(X_test_reduced_1),))\n",
        "#np.savetxt(\"foo.csv\", Y_test, delimiter=\",\")\n",
        "\n",
        "print( \"Accuracy:\" , pu.model_accuracy(result, Y_test))"
      ],
      "execution_count": 0,
      "outputs": [
        {
          "output_type": "error",
          "ename": "NameError",
          "evalue": "ignored",
          "traceback": [
            "\u001b[0;31m---------------------------------------------------------------------------\u001b[0m",
            "\u001b[0;31mNameError\u001b[0m                                 Traceback (most recent call last)",
            "\u001b[0;32m<ipython-input-7-862f36bbd22e>\u001b[0m in \u001b[0;36m<module>\u001b[0;34m()\u001b[0m\n\u001b[1;32m     11\u001b[0m \u001b[0;31m#np.savetxt(\"foo.csv\", Y_test, delimiter=\",\")\u001b[0m\u001b[0;34m\u001b[0m\u001b[0;34m\u001b[0m\u001b[0;34m\u001b[0m\u001b[0m\n\u001b[1;32m     12\u001b[0m \u001b[0;34m\u001b[0m\u001b[0m\n\u001b[0;32m---> 13\u001b[0;31m \u001b[0mprint\u001b[0m\u001b[0;34m(\u001b[0m \u001b[0;34m\"Accuracy:\"\u001b[0m \u001b[0;34m,\u001b[0m \u001b[0mpu\u001b[0m\u001b[0;34m.\u001b[0m\u001b[0mmodel_accuracy\u001b[0m\u001b[0;34m(\u001b[0m\u001b[0mresult\u001b[0m\u001b[0;34m,\u001b[0m \u001b[0mY_test\u001b[0m\u001b[0;34m)\u001b[0m\u001b[0;34m)\u001b[0m\u001b[0;34m\u001b[0m\u001b[0;34m\u001b[0m\u001b[0m\n\u001b[0m",
            "\u001b[0;31mNameError\u001b[0m: name 'pu' is not defined"
          ]
        }
      ]
    },
    {
      "metadata": {
        "id": "8GsQnkhfXdf6",
        "colab_type": "code",
        "outputId": "aedaf73c-fb6f-4d76-d2e4-a1a88f9f494d",
        "colab": {
          "base_uri": "https://localhost:8080/",
          "height": 34
        }
      },
      "cell_type": "code",
      "source": [
        "from sklearn.metrics import accuracy_score\n",
        "\n",
        "print( \"Accuracy:\" , accuracy_score(result, Y_test))"
      ],
      "execution_count": 0,
      "outputs": [
        {
          "output_type": "stream",
          "text": [
            "Accuracy: 0.4563986409966025\n"
          ],
          "name": "stdout"
        }
      ]
    },
    {
      "metadata": {
        "id": "QZAKRCApXdgA",
        "colab_type": "text"
      },
      "cell_type": "markdown",
      "source": [
        "# MLP"
      ]
    },
    {
      "metadata": {
        "id": "Zxdj1_4oXdgD",
        "colab_type": "code",
        "outputId": "43b83392-3223-4e9a-e9c6-f465273f4577",
        "colab": {
          "base_uri": "https://localhost:8080/",
          "height": 136
        }
      },
      "cell_type": "code",
      "source": [
        "from sklearn.neural_network import MLPClassifier\n",
        "\n",
        "clf = MLPClassifier(solver='lbfgs', alpha=1e-4,\n",
        "                    hidden_layer_sizes=(50,20), random_state=1)\n",
        "\n",
        "clf.fit(X_train_reduced_1, Y_train)"
      ],
      "execution_count": 0,
      "outputs": [
        {
          "output_type": "execute_result",
          "data": {
            "text/plain": [
              "MLPClassifier(activation='relu', alpha=0.0001, batch_size='auto', beta_1=0.9,\n",
              "       beta_2=0.999, early_stopping=False, epsilon=1e-08,\n",
              "       hidden_layer_sizes=(50, 20), learning_rate='constant',\n",
              "       learning_rate_init=0.001, max_iter=200, momentum=0.9,\n",
              "       nesterovs_momentum=True, power_t=0.5, random_state=1, shuffle=True,\n",
              "       solver='lbfgs', tol=0.0001, validation_fraction=0.1, verbose=False,\n",
              "       warm_start=False)"
            ]
          },
          "metadata": {
            "tags": []
          },
          "execution_count": 120
        }
      ]
    },
    {
      "metadata": {
        "id": "X_asCOipXdgI",
        "colab_type": "code",
        "outputId": "b1331933-7733-4517-df77-8d17eb891567",
        "colab": {
          "base_uri": "https://localhost:8080/",
          "height": 51
        }
      },
      "cell_type": "code",
      "source": [
        "from sklearn.metrics import accuracy_score\n",
        "\n",
        "result = clf.predict(X_test_reduced_1)\n",
        "print(result.shape)\n",
        "\n",
        "result = result.reshape((len(X_test),))\n",
        "Y_test = Y_test.reshape((len(X_test_reduced_1),))\n",
        "print( \"Accuracy:\" , accuracy_score(result, Y_test))"
      ],
      "execution_count": 0,
      "outputs": [
        {
          "output_type": "stream",
          "text": [
            "(7947,)\n",
            "Accuracy: 0.5512772115263621\n"
          ],
          "name": "stdout"
        }
      ]
    },
    {
      "metadata": {
        "id": "QFwQYHYHXdgQ",
        "colab_type": "code",
        "colab": {}
      },
      "cell_type": "code",
      "source": [
        "result = clf.predict(X_test_1)\n",
        "print(result.shape)\n",
        "\n",
        "result = result.reshape((len(X_test),))\n",
        "Y_test = Y_test.reshape((len(X_test_reduced_1),))\n",
        "#print( \"Accuracy:\" , pu.model_accuracy(result, Y_test))"
      ],
      "execution_count": 0,
      "outputs": []
    },
    {
      "metadata": {
        "id": "HqTlOe36XdgX",
        "colab_type": "code",
        "colab": {}
      },
      "cell_type": "code",
      "source": [
        "np.savetxt(\"foo.csv\", result, delimiter=\",\")"
      ],
      "execution_count": 0,
      "outputs": []
    },
    {
      "metadata": {
        "id": "-qc2snuSXdgb",
        "colab_type": "code",
        "colab": {}
      },
      "cell_type": "code",
      "source": [
        ""
      ],
      "execution_count": 0,
      "outputs": []
    },
    {
      "metadata": {
        "id": "I5J70z1vXdgf",
        "colab_type": "text"
      },
      "cell_type": "markdown",
      "source": [
        "# TensorFlow NN"
      ]
    },
    {
      "metadata": {
        "id": "QwnXsHg9Xdgh",
        "colab_type": "code",
        "colab": {}
      },
      "cell_type": "code",
      "source": [
        "import tensorflow as tf"
      ],
      "execution_count": 0,
      "outputs": []
    },
    {
      "metadata": {
        "id": "NwqwKQQjXdgl",
        "colab_type": "code",
        "colab": {}
      },
      "cell_type": "code",
      "source": [
        "x = tf.placeholder(tf.float32, [0,784])\n",
        "y = tf.placeholder(tf.float32, [0, 10])\n",
        "\n",
        "\n",
        "\n",
        "W = tf.Variable(tf.zeros([784,10]))\n",
        "b = tf.Variable(tf.zeros([10]))\n"
      ],
      "execution_count": 0,
      "outputs": []
    },
    {
      "metadata": {
        "id": "PiHruZ4SXdgo",
        "colab_type": "code",
        "colab": {}
      },
      "cell_type": "code",
      "source": [
        "with tf.name_scope( \"Wx_b\") as scope:\n",
        "    model= tf.nn.softmax(tf.matmul(x,W)+b)\n",
        "\n",
        "w_h = tf.summary.histogram(\"weights\", W)\n",
        "b_h = tf.summary.histogram(\"bias\", b)  "
      ],
      "execution_count": 0,
      "outputs": []
    },
    {
      "metadata": {
        "id": "8WtWlIVeXdgs",
        "colab_type": "code",
        "colab": {}
      },
      "cell_type": "code",
      "source": [
        "with tf.name_scope( \"cost_func\") as scope:\n",
        "    cost= tf.reduce_sum(y*tf.log(model))\n",
        "    tf.summary.scalar(\"cost_func\", cost)"
      ],
      "execution_count": 0,
      "outputs": []
    },
    {
      "metadata": {
        "id": "YKFi1N2nXdgx",
        "colab_type": "code",
        "colab": {}
      },
      "cell_type": "code",
      "source": [
        "with tf.name_scope( \"GD\") as scope:\n",
        "    GD = tf.train.GradientDescentOptimizer(0.05).minimize(cost)\n",
        "    "
      ],
      "execution_count": 0,
      "outputs": []
    },
    {
      "metadata": {
        "id": "enyuUsv-Xdg4",
        "colab_type": "code",
        "colab": {}
      },
      "cell_type": "code",
      "source": [
        "init = tf.global_variables_initializer()\n",
        "merged_summary_operator = tf.summary.merge_all()\n"
      ],
      "execution_count": 0,
      "outputs": []
    },
    {
      "metadata": {
        "id": "Du2W7WrCXdg8",
        "colab_type": "code",
        "colab": {}
      },
      "cell_type": "code",
      "source": [
        ""
      ],
      "execution_count": 0,
      "outputs": []
    },
    {
      "metadata": {
        "id": "zwCn3FbYXdg_",
        "colab_type": "code",
        "colab": {}
      },
      "cell_type": "code",
      "source": [
        "with tf.Session() as session:\n",
        "    session.run(init)\n",
        "    \n",
        "    summary_writer = tf.summary.FileWriter('./logs', graph = session.graph)\n",
        "    for itr in range(1000):\n",
        "        batch_xs, batch_ys = mnist_train.next_batch(batch_size)\n",
        "        session.run(GD, feed_dict= {x: batch_xs, y:batch_ys})\n",
        "        \n",
        "        avg_cost = session.run(cost_func, feed_dict = {x:batch_xs, y:batch_ys})\n",
        "        \n",
        "        summary_str = session.run(merged_summary_operator, feed_dict={x:batch_xs, y:batch_ys})\n",
        "        "
      ],
      "execution_count": 0,
      "outputs": []
    },
    {
      "metadata": {
        "id": "WzXsnvcaXdhC",
        "colab_type": "code",
        "colab": {}
      },
      "cell_type": "code",
      "source": [
        "session.run(train)\n",
        "print(session.run(w))"
      ],
      "execution_count": 0,
      "outputs": []
    },
    {
      "metadata": {
        "id": "WrxYbXO_XdhJ",
        "colab_type": "code",
        "colab": {}
      },
      "cell_type": "code",
      "source": [
        "for i in range(1000):\n",
        "    session.run(train)\n",
        "    print(session.run(w))\n",
        "    "
      ],
      "execution_count": 0,
      "outputs": []
    },
    {
      "metadata": {
        "id": "BO9SOhFfXdhN",
        "colab_type": "code",
        "colab": {}
      },
      "cell_type": "code",
      "source": [
        "data_dirx = 'C:/Users/rupes/OneDrive/Pictures/Screenshots/'\n",
        "X_test_1, Y_test_1 = du.load_mnistx(data_dirx,1)\n",
        "Y_test_1 = Y_test_1.reshape(len(Y_test_1), 1)"
      ],
      "execution_count": 0,
      "outputs": []
    },
    {
      "metadata": {
        "id": "DruWynIHXdhR",
        "colab_type": "code",
        "colab": {}
      },
      "cell_type": "code",
      "source": [
        "print(X_test_1.shape)"
      ],
      "execution_count": 0,
      "outputs": []
    },
    {
      "metadata": {
        "id": "wlOWthACXdhU",
        "colab_type": "text"
      },
      "cell_type": "markdown",
      "source": [
        "# Signal"
      ]
    },
    {
      "metadata": {
        "id": "dj51AiphXdhV",
        "colab_type": "code",
        "outputId": "84701846-7cc8-48b7-8690-906a7bc66fb8",
        "colab": {}
      },
      "cell_type": "code",
      "source": [
        "data_dir_2 = './data/RS_data/'\n",
        "import pandas as pd\n",
        "from numpy import genfromtxt\n",
        "import matplotlib.pyplot as plt\n",
        "\n",
        "\n",
        "x_data = genfromtxt( data_dir_2 + 'signals/s2.csv', delimiter=',')\n",
        "y_data = pd.read_csv( data_dir_2 + 'GT.csv')\n",
        "\n",
        "y_data_1 = y_data['S2'].values\n",
        "\n",
        "print(y_data_1)\n",
        "index = [i for i in range(len(x_data))]\n",
        "\n",
        "x_bata = np.zeros(len(y_data_1))\n",
        "\n",
        "for i in range(len(y_data_1)):\n",
        "    x_bata[i] = x_data[y_data_1[i]] \n",
        "    \n",
        "plt.plot(index, x_data)\n",
        "plt.plot(y_data_1 ,x_bata, 'ro')\n",
        "\n",
        "plt.show()\n"
      ],
      "execution_count": 0,
      "outputs": [
        {
          "output_type": "stream",
          "text": [
            "[ 540  639 1024 1154 1608 1741 2094 2220 2709 2785 3183 3319 3616 3672\n",
            " 4127 4165 4599 4719 5175 5286]\n"
          ],
          "name": "stdout"
        },
        {
          "output_type": "display_data",
          "data": {
            "image/png": "[encoded data removed]",
            "text/plain": [
              "<Figure size 432x288 with 1 Axes>"
            ]
          },
          "metadata": {
            "tags": [],
            "needs_background": "light"
          }
        }
      ]
    },
    {
      "metadata": {
        "id": "82H2ha21Xdha",
        "colab_type": "text"
      },
      "cell_type": "markdown",
      "source": [
        "# CNN"
      ]
    },
    {
      "metadata": {
        "id": "8PX-G_dLXdhb",
        "colab_type": "code",
        "outputId": "c81487c7-0608-4c6d-eb67-07f209fab328",
        "colab": {
          "base_uri": "https://localhost:8080/",
          "height": 119
        }
      },
      "cell_type": "code",
      "source": [
        "import math\n",
        "import h5py\n",
        "import scipy\n",
        "from PIL import Image\n",
        "from scipy import ndimage\n",
        "import tensorflow as tf\n",
        "from tensorflow.python.framework import ops\n",
        "#from cnn_utils import *\n",
        "\n",
        "%matplotlib inline\n",
        "np.random.seed(1)\n",
        "\n",
        "\n",
        "# Loading the data (signs)\n",
        "X_train_orig = X_train.reshape((60000,28,28,1))\n",
        "Y_train_orig = Y_train\n",
        "X_test_orig = X_test.reshape((7947,28,28,1))\n",
        "#X_val_1 = X_val.reshape((10000,28,28,1))\n",
        "Y_test_orig = Y_test\n",
        "classes = 10\n",
        "\n",
        "\n",
        "X_train_1 = X_train_orig\n",
        "X_test_1 = X_test_orig\n",
        "Y_train_1 = convert_to_one_hot(Y_train_orig, 10).T\n",
        "Y_test_1 = convert_to_one_hot(Y_test_orig, 10).T\n",
        "#Y_val_1 = convert_to_one_hot(Y_val, 10).T\n",
        "print (\"number of training examples = \" + str(X_train.shape[0]))\n",
        "print (\"number of test examples = \" + str(X_test.shape[0]))\n",
        "print (\"X_train shape: \" + str(X_train_1.shape))\n",
        "print (\"Y_train shape: \" + str(Y_train_1.shape))\n",
        "print (\"X_test shape: \" + str(X_test_1.shape))\n",
        "print (\"Y_test shape: \" + str(Y_test_1.shape))\n",
        "conv_layers = {}\n",
        "\n"
      ],
      "execution_count": 0,
      "outputs": [
        {
          "output_type": "stream",
          "text": [
            "number of training examples = 60000\n",
            "number of test examples = 7947\n",
            "X_train shape: (60000, 28, 28, 1)\n",
            "Y_train shape: (60000, 10)\n",
            "X_test shape: (7947, 28, 28, 1)\n",
            "Y_test shape: (7947, 10)\n"
          ],
          "name": "stdout"
        }
      ]
    },
    {
      "metadata": {
        "id": "1XPe17SEXdhn",
        "colab_type": "code",
        "colab": {}
      },
      "cell_type": "code",
      "source": [
        "# GRADED FUNCTION: create_placeholders\n",
        "\n",
        "def create_placeholders(n_H0, n_W0, n_C0, n_y):\n",
        "    \"\"\"\n",
        "    Creates the placeholders for the tensorflow session.\n",
        "    \n",
        "    Arguments:\n",
        "    n_H0 -- scalar, height of an input image\n",
        "    n_W0 -- scalar, width of an input image\n",
        "    n_C0 -- scalar, number of channels of the input\n",
        "    n_y -- scalar, number of classes\n",
        "        \n",
        "    Returns:\n",
        "    X -- placeholder for the data input, of shape [None, n_H0, n_W0, n_C0] and dtype \"float\"\n",
        "    Y -- placeholder for the input labels, of shape [None, n_y] and dtype \"float\"\n",
        "    \"\"\"\n",
        "\n",
        "    ### START CODE HERE ### (≈2 lines)\n",
        "    X = tf.placeholder(tf.float32, shape = (None, n_H0, n_W0, n_C0))\n",
        "    Y = tf.placeholder(tf.float32, shape = (None, n_y))\n",
        "    ### END CODE HERE ###\n",
        "    \n",
        "    return X, Y"
      ],
      "execution_count": 0,
      "outputs": []
    },
    {
      "metadata": {
        "id": "hcicZQUXXdh0",
        "colab_type": "code",
        "outputId": "8a8b7614-57c6-497d-c462-b1fccb14a721",
        "colab": {
          "base_uri": "https://localhost:8080/",
          "height": 51
        }
      },
      "cell_type": "code",
      "source": [
        "X, Y = create_placeholders(28, 28, 1, 10)\n",
        "print (\"X = \" + str(X))\n",
        "print (\"Y = \" + str(Y))"
      ],
      "execution_count": 0,
      "outputs": [
        {
          "output_type": "stream",
          "text": [
            "X = Tensor(\"Placeholder:0\", shape=(?, 28, 28, 1), dtype=float32)\n",
            "Y = Tensor(\"Placeholder_1:0\", shape=(?, 10), dtype=float32)\n"
          ],
          "name": "stdout"
        }
      ]
    },
    {
      "metadata": {
        "id": "pBARzMtiXdh6",
        "colab_type": "code",
        "outputId": "0d2c44d8-c6c0-4d02-eadc-60a9218f6b0e",
        "colab": {
          "base_uri": "https://localhost:8080/",
          "height": 68
        }
      },
      "cell_type": "code",
      "source": [
        "# GRADED FUNCTION: initialize_parameters\n",
        "\n",
        "def initialize_parameters():\n",
        "    \"\"\"\n",
        "    Initializes weight parameters to build a neural network with tensorflow. The shapes are:\n",
        "                        W1 : [4, 4, 3, 8]\n",
        "                        W2 : [2, 2, 8, 16]\n",
        "    Returns:\n",
        "    parameters -- a dictionary of tensors containing W1, W2\n",
        "    \"\"\"\n",
        "    \n",
        "    tf.set_random_seed(1)                              # so that your \"random\" numbers match ours\n",
        "        \n",
        "    ### START CODE HERE ### (approx. 2 lines of code)\n",
        "    W1 = tf.get_variable(\"W1\", [5,5,1,8], initializer = tf.contrib.layers.xavier_initializer(seed = 0))\n",
        "    W2 = tf.get_variable(\"W2\", [5,5,8,12], initializer = tf.contrib.layers.xavier_initializer(seed = 0))\n",
        "    ### END CODE HERE ###\n",
        "\n",
        "    parameters = {\"W1\": W1,\n",
        "                  \"W2\": W2}\n",
        "    \n",
        "    return parameters\n",
        "  \n",
        "  \n",
        "tf.reset_default_graph()\n",
        "with tf.Session() as sess_test:\n",
        "    parameters = initialize_parameters()\n",
        "    init = tf.global_variables_initializer()\n",
        "    sess_test.run(init)\n",
        "    print(\"W1 = \" + str(parameters[\"W1\"].eval()[0,0,0]))\n",
        "    print(\"W2 = \" + str(parameters[\"W2\"].eval()[0,0,0]))"
      ],
      "execution_count": 0,
      "outputs": [
        {
          "output_type": "stream",
          "text": [
            "W1 = [ 0.1021 -0.1376  0.1279 -0.108  -0.1427  0.0148  0.0012  0.1387]\n",
            "W2 = [ 0.0685 -0.0923  0.0858 -0.0725 -0.0957  0.0099  0.0008  0.0931  0.0371\n",
            "  0.0938 -0.0827  0.0774]\n"
          ],
          "name": "stdout"
        }
      ]
    },
    {
      "metadata": {
        "id": "SKCMsZvMXdiN",
        "colab_type": "code",
        "colab": {}
      },
      "cell_type": "code",
      "source": [
        "# GRADED FUNCTION: forward_propagation\n",
        "\n",
        "def forward_propagation(X, parameters):\n",
        "    \"\"\"\n",
        "    Implements the forward propagation for the model:\n",
        "    CONV2D -> RELU -> MAXPOOL -> CONV2D -> RELU -> MAXPOOL -> FLATTEN -> FULLYCONNECTED\n",
        "    \n",
        "    Arguments:\n",
        "    X -- input dataset placeholder, of shape (input size, number of examples)\n",
        "    parameters -- python dictionary containing your parameters \"W1\", \"W2\"\n",
        "                  the shapes are given in initialize_parameters\n",
        "\n",
        "    Returns:\n",
        "    Z3 -- the output of the last LINEAR unit\n",
        "    \"\"\"\n",
        "    \n",
        "    # Retrieve the parameters from the dictionary \"parameters\" \n",
        "    W1 = parameters['W1']\n",
        "    W2 = parameters['W2']\n",
        "    \n",
        "    ### START CODE HERE ###\n",
        "    \n",
        "    # CONV2D: stride of 1, padding 'SAME'\n",
        "    Z1 = tf.nn.conv2d(X, W1, strides = [1,1,1,1], padding = 'SAME')\n",
        "    # RELU\n",
        "    A1 = tf.nn.relu(Z1)\n",
        "    \n",
        "    # MAXPOOL: window 8x8, sride 8, padding 'SAME'\n",
        "    P1 = tf.nn.max_pool(A1, ksize = [1,4,4,1], strides = [1,2,2,1], padding = 'SAME')\n",
        "    # CONV2D: filters W2, stride 1, padding 'SAME'\n",
        "    Z2 = tf.nn.conv2d(P1, W2, strides = [1,1,1,1], padding = 'SAME')\n",
        "    # RELU\n",
        "    A2 = tf.nn.relu(Z2)\n",
        "    # MAXPOOL: window 4x4, stride 4, padding 'SAME'\n",
        "    P2 = tf.nn.max_pool(A2, ksize = [1,4,4,1], strides = [1,2,2,1], padding = 'SAME')\n",
        "    print(P2.shape)\n",
        "    # FLATTEN\n",
        "    F = tf.contrib.layers.flatten(P2)\n",
        "    print(F.shape)\n",
        "    # FULLY-CONNECTED without non-linear activation function (not not call softmax).\n",
        "    # 6 neurons in output layer. Hint: one of the arguments should be \"activation_fn=None\" \n",
        "    Z3 = tf.contrib.layers.fully_connected(F, 10, activation_fn = None)\n",
        "    ### END CODE HERE ###\n",
        "\n",
        "    return Z3"
      ],
      "execution_count": 0,
      "outputs": []
    },
    {
      "metadata": {
        "id": "K3y7kaOSXdiQ",
        "colab_type": "code",
        "outputId": "b54a82b4-b340-4ec9-b887-1ab4788be64c",
        "colab": {
          "base_uri": "https://localhost:8080/",
          "height": 136
        }
      },
      "cell_type": "code",
      "source": [
        "tf.reset_default_graph()\n",
        "\n",
        "with tf.Session() as sess:\n",
        "    np.random.seed(1)\n",
        "    X, Y = create_placeholders(28, 28, 1, 10)\n",
        "    parameters = initialize_parameters()\n",
        "    Z3 = forward_propagation(X, parameters)\n",
        "    init = tf.global_variables_initializer()\n",
        "    sess.run(init)\n",
        "    a = sess.run(Z3, {X: np.random.randn(2,28,28,1), Y: np.random.randn(2,10)})\n",
        "    print(\"Z3 = \" + str(a))\n",
        "    predict_op = tf.argmax(Z3, 1)\n",
        "    correct_prediction = tf.equal(predict_op, tf.argmax(Y, 1))\n",
        "    a = sess.run(predict_op, {X: np.random.randn(2,28,28,1)})\n",
        "    print(\"a\" + str(a)) \n",
        "    a = a.astype(int)\n",
        "    np.savetxt(\"/content/drive/sam/data/foo.csv\", a, delimiter=\",\")"
      ],
      "execution_count": 0,
      "outputs": [
        {
          "output_type": "stream",
          "text": [
            "(?, 7, 7, 12)\n",
            "(?, 588)\n",
            "Z3 = [[-0.7411 -0.0435  0.273  -0.6002  0.1567  0.6511  0.5489 -1.2121 -0.0257\n",
            "   1.6961]\n",
            " [-0.5882  0.2837  0.4124 -0.0367  0.2681  0.6451  0.3921 -1.1919 -0.0043\n",
            "   1.8563]]\n",
            "a[9 9]\n"
          ],
          "name": "stdout"
        }
      ]
    },
    {
      "metadata": {
        "id": "f_vckroXXdiV",
        "colab_type": "code",
        "outputId": "3b005d29-97c6-4e0d-eaa4-bba1ee2ecc3a",
        "colab": {
          "base_uri": "https://localhost:8080/",
          "height": 68
        }
      },
      "cell_type": "code",
      "source": [
        "# GRADED FUNCTION: compute_cost \n",
        "\n",
        "def compute_cost(Z3, Y):\n",
        "    \"\"\"\n",
        "    Computes the cost\n",
        "    \n",
        "    Arguments:\n",
        "    Z3 -- output of forward propagation (output of the last LINEAR unit), of shape (6, number of examples)\n",
        "    Y -- \"true\" labels vector placeholder, same shape as Z3\n",
        "    \n",
        "    Returns:\n",
        "    cost - Tensor of the cost function\n",
        "    \"\"\"\n",
        "    \n",
        "    ### START CODE HERE ### (1 line of code)\n",
        "    cost = tf.reduce_mean(tf.nn.softmax_cross_entropy_with_logits(logits = Z3, labels = Y))\n",
        "    ### END CODE HERE ###\n",
        "    \n",
        "    return cost\n",
        "  \n",
        "tf.reset_default_graph()\n",
        "\n",
        "with tf.Session() as sess:\n",
        "    np.random.seed(1)\n",
        "    X, Y = create_placeholders(28, 28, 1, 10)\n",
        "    parameters = initialize_parameters()\n",
        "    Z3 = forward_propagation(X, parameters)\n",
        "    cost = compute_cost(Z3, Y)\n",
        "    init = tf.global_variables_initializer()\n",
        "    sess.run(init)\n",
        "    a = sess.run(cost, {X: np.random.randn(4,28,28,1), Y: np.random.randn(4,10)})\n",
        "    print(\"cost = \" + str(a))"
      ],
      "execution_count": 0,
      "outputs": [
        {
          "output_type": "stream",
          "text": [
            "(?, 7, 7, 12)\n",
            "(?, 588)\n",
            "cost = 6.2654715\n"
          ],
          "name": "stdout"
        }
      ]
    },
    {
      "metadata": {
        "id": "4D_qGvQQXdid",
        "colab_type": "code",
        "colab": {}
      },
      "cell_type": "code",
      "source": [
        "# GRADED FUNCTION: model\n",
        "\n",
        "def model(X_train, Y_train, X_test, Y_test,X_test_2, learning_rate = 0.0006,\n",
        "          num_epochs = 11, minibatch_size = 128, print_cost = True):\n",
        "    \"\"\"\n",
        "    Implements a three-layer ConvNet in Tensorflow:\n",
        "    CONV2D -> RELU -> MAXPOOL -> CONV2D -> RELU -> MAXPOOL -> FLATTEN -> FULLYCONNECTED\n",
        "    \n",
        "    Arguments:\n",
        "    X_train -- training set, of shape (None, 64, 64, 3)\n",
        "    Y_train -- test set, of shape (None, n_y = 6)\n",
        "    X_test -- training set, of shape (None, 64, 64, 3)\n",
        "    Y_test -- test set, of shape (None, n_y = 6)\n",
        "    learning_rate -- learning rate of the optimization\n",
        "    num_epochs -- number of epochs of the optimization loop\n",
        "    minibatch_size -- size of a minibatch\n",
        "    print_cost -- True to print the cost every 100 epochs\n",
        "    \n",
        "    Returns:\n",
        "    train_accuracy -- real number, accuracy on the train set (X_train)\n",
        "    test_accuracy -- real number, testing accuracy on the test set (X_test)\n",
        "    parameters -- parameters learnt by the model. They can then be used to predict.\n",
        "    \"\"\"\n",
        "    \n",
        "    ops.reset_default_graph()                         # to be able to rerun the model without overwriting tf variables\n",
        "    tf.set_random_seed(1)                             # to keep results consistent (tensorflow seed)\n",
        "    seed = 3                                          # to keep results consistent (numpy seed)\n",
        "    (m, n_H0, n_W0, n_C0) = X_train.shape             \n",
        "    n_y = Y_train.shape[1]                            \n",
        "    costs = []                                        # To keep track of the cost\n",
        "    \n",
        "    # Create Placeholders of the correct shape\n",
        "    ### START CODE HERE ### (1 line)\n",
        "    X, Y = create_placeholders(n_H0, n_W0, n_C0, n_y)\n",
        "    ### END CODE HERE ###\n",
        "\n",
        "    # Initialize parameters\n",
        "    ### START CODE HERE ### (1 line)\n",
        "    parameters = initialize_parameters()\n",
        "    ### END CODE HERE ###\n",
        "    \n",
        "    # Forward propagation: Build the forward propagation in the tensorflow graph\n",
        "    ### START CODE HERE ### (1 line)\n",
        "    Z3 = forward_propagation(X, parameters)\n",
        "    ### END CODE HERE ###\n",
        "    \n",
        "    # Cost function: Add cost function to tensorflow graph\n",
        "    ### START CODE HERE ### (1 line)\n",
        "    cost = compute_cost(Z3, Y)\n",
        "    ### END CODE HERE ###\n",
        "    \n",
        "    # Backpropagation: Define the tensorflow optimizer. Use an AdamOptimizer that minimizes the cost.\n",
        "    ### START CODE HERE ### (1 line)\n",
        "    optimizer = tf.train.AdamOptimizer(learning_rate = learning_rate).minimize(cost)\n",
        "    ### END CODE HERE ###\n",
        "    \n",
        "    # Initialize all the variables globally\n",
        "    init = tf.global_variables_initializer()\n",
        "     \n",
        "    # Start the session to compute the tensorflow graph\n",
        "    with tf.Session() as sess:\n",
        "        \n",
        "        # Run the initialization\n",
        "        sess.run(init)\n",
        "        \n",
        "        # Do the training loop\n",
        "        for epoch in range(num_epochs):\n",
        "\n",
        "            minibatch_cost = 0.\n",
        "            num_minibatches = int(m / minibatch_size) # number of minibatches of size minibatch_size in the train set\n",
        "            seed = seed + 1\n",
        "            minibatches = random_mini_batches(X_train, Y_train, minibatch_size, seed)\n",
        "\n",
        "            for minibatch in minibatches:\n",
        "\n",
        "                # Select a minibatch\n",
        "                (minibatch_X, minibatch_Y) = minibatch\n",
        "                # IMPORTANT: The line that runs the graph on a minibatch.\n",
        "                # Run the session to execute the optimizer and the cost, the feedict should contain a minibatch for (X,Y).\n",
        "                ### START CODE HERE ### (1 line)\n",
        "                _ , temp_cost = sess.run([optimizer, cost], feed_dict={X: minibatch_X, Y: minibatch_Y})\n",
        "                ### END CODE HERE ###\n",
        "                \n",
        "                minibatch_cost += temp_cost / num_minibatches\n",
        "                \n",
        "\n",
        "            # Print the cost every epoch\n",
        "            if print_cost == True and epoch % 5 == 0:\n",
        "                print (\"Cost after epoch %i: %f\" % (epoch, minibatch_cost))\n",
        "            if print_cost == True and epoch % 1 == 0:\n",
        "                costs.append(minibatch_cost)\n",
        "        \n",
        "        \n",
        "        # plot the cost\n",
        "        plt.plot(np.squeeze(costs))\n",
        "        plt.ylabel('cost')\n",
        "        plt.xlabel('iterations (per tens)')\n",
        "        plt.title(\"Learning rate =\" + str(learning_rate))\n",
        "        plt.show()\n",
        "\n",
        "        # Calculate the correct predictions\n",
        "        predict_op = tf.argmax(Z3, 1)\n",
        "        correct_prediction = tf.equal(predict_op, tf.argmax(Y, 1))\n",
        "        \n",
        "        a = sess.run(predict_op, {X: X_test_2})\n",
        "        #print(\"a\" + str(a)) \n",
        "        a = a.astype(int)\n",
        "        print(a)\n",
        "        np.savetxt(\"/content/drive/sam/data/foo.csv\", a, delimiter=\",\")\n",
        "        \n",
        "         \n",
        "        # Calculate accuracy on the test set\n",
        "        accuracy = tf.reduce_mean(tf.cast(correct_prediction, \"float\"))\n",
        "        #print(accuracy)\n",
        "        #train_accuracy = accuracy.eval({X: X_train, Y: Y_train})\n",
        "        test_accuracy = accuracy.eval({X: X_test, Y: Y_test})\n",
        "        #print(\"Train Accuracy:\", train_accuracy)\n",
        "        print(\"Test Accuracy:\", test_accuracy)\n",
        "                \n",
        "        return a, predict_op, accuracy, parameters, correct_prediction"
      ],
      "execution_count": 0,
      "outputs": []
    },
    {
      "metadata": {
        "scrolled": true,
        "id": "wX0BhY-9Xdig",
        "colab_type": "code",
        "outputId": "e0b1a53b-3f6a-456d-bc1e-503beb390891",
        "colab": {
          "base_uri": "https://localhost:8080/",
          "height": 413
        }
      },
      "cell_type": "code",
      "source": [
        "a, predict_op ,correct_prediction , accuracy, parameters = model(X_train_1, Y_train_1, X_test_1, Y_test_1,X_test_2)"
      ],
      "execution_count": 0,
      "outputs": [
        {
          "output_type": "stream",
          "text": [
            "(?, 7, 7, 12)\n",
            "(?, 588)\n",
            "Cost after epoch 0: 0.783719\n",
            "Cost after epoch 5: 0.076412\n",
            "Cost after epoch 10: 0.051953\n"
          ],
          "name": "stdout"
        },
        {
          "output_type": "display_data",
          "data": {
            "image/png": "[encoded data removed]",
            "text/plain": [
              "<matplotlib.figure.Figure at 0x7f6222a17ac8>"
            ]
          },
          "metadata": {
            "tags": []
          }
        },
        {
          "output_type": "stream",
          "text": [
            "[1 2 6 ... 1 7 7]\n",
            "Test Accuracy: 0.83465457\n"
          ],
          "name": "stdout"
        }
      ]
    },
    {
      "metadata": {
        "id": "nGcxLAsjIF-a",
        "colab_type": "code",
        "outputId": "a1d60ff8-b9da-4e8e-d67c-08aaf2becf87",
        "colab": {
          "base_uri": "https://localhost:8080/",
          "height": 34
        }
      },
      "cell_type": "code",
      "source": [
        "\n",
        "print(a)\n",
        "np.savetxt(\"/content/drive/sam/data/foo.csv\", a, delimiter=\",\")"
      ],
      "execution_count": 0,
      "outputs": [
        {
          "output_type": "stream",
          "text": [
            "[0 0 0 ... 7 7 7]\n"
          ],
          "name": "stdout"
        }
      ]
    },
    {
      "metadata": {
        "id": "i1h8uhUpXdil",
        "colab_type": "code",
        "colab": {}
      },
      "cell_type": "code",
      "source": [
        "fname = \"images/thumbs_up.jpg\"\n",
        "image = np.array(ndimage.imread(fname, flatten=False))\n",
        "my_image = scipy.misc.imresize(image, size=(28,28))\n",
        "plt.imshow(my_image)"
      ],
      "execution_count": 0,
      "outputs": []
    },
    {
      "metadata": {
        "id": "PdjCaw_j_40x",
        "colab_type": "text"
      },
      "cell_type": "markdown",
      "source": [
        "# New Section"
      ]
    }
  ]
}