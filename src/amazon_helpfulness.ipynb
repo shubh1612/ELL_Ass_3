{
  "nbformat": 4,
  "nbformat_minor": 0,
  "metadata": {
    "colab": {
      "name": "recurrent_model.ipynb",
      "version": "0.3.2",
      "provenance": [],
      "collapsed_sections": [],
      "toc_visible": true
    },
    "kernelspec": {
      "name": "python3",
      "display_name": "Python 3"
    },
    "accelerator": "GPU"
  },
  "cells": [
    {
      "metadata": {
        "id": "AYERtPnPID-6",
        "colab_type": "code",
        "colab": {}
      },
      "cell_type": "code",
      "source": [
        "# !apt-get install -y -qq software-properties-common python-software-properties module-init-tools\n",
        "# !add-apt-repository -y ppa:alessandro-strada/ppa 2>&1 > /dev/null\n",
        "# !apt-get update -qq 2>&1 > /dev/null\n",
        "# !apt-get -y install -qq google-drive-ocamlfuse fuse\n",
        "# from google.colab import auth\n",
        "# auth.authenticate_user()\n",
        "# from oauth2client.client import GoogleCredentials\n",
        "# creds = GoogleCredentials.get_application_default()\n",
        "# import getpass\n",
        "# !google-drive-ocamlfuse -headless -id={creds.client_id} -secret={creds.client_secret} < /dev/null 2>&1 | grep URL\n",
        "# vcode = getpass.getpass()\n",
        "# !echo {vcode} | google-drive-ocamlfuse -headless -id={creds.client_id} -secret={creds.client_secret}"
      ],
      "execution_count": 0,
      "outputs": []
    },
    {
      "metadata": {
        "id": "bomj1NETIwGv",
        "colab_type": "code",
        "colab": {}
      },
      "cell_type": "code",
      "source": [
        "# !mkdir -p drive\n",
        "# !google-drive-ocamlfuse drive"
      ],
      "execution_count": 0,
      "outputs": []
    },
    {
      "metadata": {
        "id": "LeOakWfVdT67",
        "colab_type": "code",
        "outputId": "7e0a817a-8cfa-4d0b-f92f-649269db164a",
        "colab": {
          "base_uri": "https://localhost:8080/",
          "height": 54
        }
      },
      "cell_type": "code",
      "source": [
        "from google.colab import drive\n",
        "drive.mount('/content/drive')"
      ],
      "execution_count": 0,
      "outputs": [
        {
          "output_type": "stream",
          "text": [
            "Drive already mounted at /content/drive; to attempt to forcibly remount, call drive.mount(\"/content/drive\", force_remount=True).\n"
          ],
          "name": "stdout"
        }
      ]
    },
    {
      "metadata": {
        "id": "7yuOnEO2dhAA",
        "colab_type": "code",
        "outputId": "0fb7720b-c23b-4299-fe95-569fac4b2f42",
        "colab": {
          "base_uri": "https://localhost:8080/",
          "height": 309
        }
      },
      "cell_type": "code",
      "source": [
        "!rm crawl*\n",
        "!rm wget-log\n",
        "!wget -v https://s3-us-west-1.amazonaws.com/fasttext-vectors/crawl-300d-2M-subword.zip\n",
        "!unzip crawl-300d-2M-subword.zip -d fasttext/"
      ],
      "execution_count": 0,
      "outputs": [
        {
          "output_type": "stream",
          "text": [
            "rm: cannot remove 'crawl*': No such file or directory\n",
            "rm: cannot remove 'wget-log': No such file or directory\n",
            "--2018-11-13 14:04:46--  https://s3-us-west-1.amazonaws.com/fasttext-vectors/crawl-300d-2M-subword.zip\n",
            "Resolving s3-us-west-1.amazonaws.com (s3-us-west-1.amazonaws.com)... 54.231.235.29\n",
            "Connecting to s3-us-west-1.amazonaws.com (s3-us-west-1.amazonaws.com)|54.231.235.29|:443... connected.\n",
            "HTTP request sent, awaiting response... 200 OK\n",
            "Length: 5828358084 (5.4G) [application/zip]\n",
            "Saving to: ‘crawl-300d-2M-subword.zip’\n",
            "\n",
            "crawl-300d-2M-subwo 100%[===================>]   5.43G  72.4MB/s    in 84s     \n",
            "\n",
            "2018-11-13 14:06:11 (65.8 MB/s) - ‘crawl-300d-2M-subword.zip’ saved [5828358084/5828358084]\n",
            "\n",
            "Archive:  crawl-300d-2M-subword.zip\n",
            "  inflating: fasttext/crawl-300d-2M-subword.vec  \n",
            "  inflating: fasttext/crawl-300d-2M-subword.bin  \n"
          ],
          "name": "stdout"
        }
      ]
    },
    {
      "metadata": {
        "id": "JvucF22NJbaR",
        "colab_type": "code",
        "colab": {}
      },
      "cell_type": "code",
      "source": [
        "!pip3 install -q keras"
      ],
      "execution_count": 0,
      "outputs": []
    },
    {
      "metadata": {
        "id": "jivz5u67JkBq",
        "colab_type": "code",
        "outputId": "c2d529e7-ef9d-4916-e5a9-6195baddbfa4",
        "colab": {
          "base_uri": "https://localhost:8080/",
          "height": 34
        }
      },
      "cell_type": "code",
      "source": [
        "import tensorflow as tf\n",
        "tf.test.gpu_device_name()"
      ],
      "execution_count": 0,
      "outputs": [
        {
          "output_type": "execute_result",
          "data": {
            "text/plain": [
              "'/device:GPU:0'"
            ]
          },
          "metadata": {
            "tags": []
          },
          "execution_count": 6
        }
      ]
    },
    {
      "metadata": {
        "id": "8XrNwDZjK4fn",
        "colab_type": "code",
        "outputId": "db053e42-8288-412d-fc2b-49ba62de0776",
        "colab": {
          "base_uri": "https://localhost:8080/",
          "height": 479
        }
      },
      "cell_type": "code",
      "source": [
        "!pip3 install gensim\n",
        "!pip3 install nltk\n",
        "!pip3 install cython\n",
        "!pip3 install pyfasttext"
      ],
      "execution_count": 0,
      "outputs": [
        {
          "output_type": "stream",
          "text": [
            "Requirement already satisfied: gensim in /usr/local/lib/python3.6/dist-packages (3.6.0)\n",
            "Requirement already satisfied: scipy>=0.18.1 in /usr/local/lib/python3.6/dist-packages (from gensim) (1.1.0)\n",
            "Requirement already satisfied: six>=1.5.0 in /usr/local/lib/python3.6/dist-packages (from gensim) (1.11.0)\n",
            "Requirement already satisfied: numpy>=1.11.3 in /usr/local/lib/python3.6/dist-packages (from gensim) (1.14.6)\n",
            "Requirement already satisfied: smart-open>=1.2.1 in /usr/local/lib/python3.6/dist-packages (from gensim) (1.7.1)\n",
            "Requirement already satisfied: boto3 in /usr/local/lib/python3.6/dist-packages (from smart-open>=1.2.1->gensim) (1.9.43)\n",
            "Requirement already satisfied: requests in /usr/local/lib/python3.6/dist-packages (from smart-open>=1.2.1->gensim) (2.18.4)\n",
            "Requirement already satisfied: boto>=2.32 in /usr/local/lib/python3.6/dist-packages (from smart-open>=1.2.1->gensim) (2.49.0)\n",
            "Requirement already satisfied: bz2file in /usr/local/lib/python3.6/dist-packages (from smart-open>=1.2.1->gensim) (0.98)\n",
            "Requirement already satisfied: s3transfer<0.2.0,>=0.1.10 in /usr/local/lib/python3.6/dist-packages (from boto3->smart-open>=1.2.1->gensim) (0.1.13)\n",
            "Requirement already satisfied: jmespath<1.0.0,>=0.7.1 in /usr/local/lib/python3.6/dist-packages (from boto3->smart-open>=1.2.1->gensim) (0.9.3)\n",
            "Requirement already satisfied: botocore<1.13.0,>=1.12.43 in /usr/local/lib/python3.6/dist-packages (from boto3->smart-open>=1.2.1->gensim) (1.12.43)\n",
            "Requirement already satisfied: urllib3<1.23,>=1.21.1 in /usr/local/lib/python3.6/dist-packages (from requests->smart-open>=1.2.1->gensim) (1.22)\n",
            "Requirement already satisfied: idna<2.7,>=2.5 in /usr/local/lib/python3.6/dist-packages (from requests->smart-open>=1.2.1->gensim) (2.6)\n",
            "Requirement already satisfied: chardet<3.1.0,>=3.0.2 in /usr/local/lib/python3.6/dist-packages (from requests->smart-open>=1.2.1->gensim) (3.0.4)\n",
            "Requirement already satisfied: certifi>=2017.4.17 in /usr/local/lib/python3.6/dist-packages (from requests->smart-open>=1.2.1->gensim) (2018.10.15)\n",
            "Requirement already satisfied: python-dateutil<3.0.0,>=2.1 in /usr/local/lib/python3.6/dist-packages (from botocore<1.13.0,>=1.12.43->boto3->smart-open>=1.2.1->gensim) (2.5.3)\n",
            "Requirement already satisfied: docutils>=0.10 in /usr/local/lib/python3.6/dist-packages (from botocore<1.13.0,>=1.12.43->boto3->smart-open>=1.2.1->gensim) (0.14)\n",
            "Requirement already satisfied: nltk in /usr/local/lib/python3.6/dist-packages (3.2.5)\n",
            "Requirement already satisfied: six in /usr/local/lib/python3.6/dist-packages (from nltk) (1.11.0)\n",
            "Requirement already satisfied: cython in /usr/local/lib/python3.6/dist-packages (0.29)\n",
            "Requirement already satisfied: pyfasttext in /usr/local/lib/python3.6/dist-packages (0.4.5)\n",
            "Requirement already satisfied: future in /usr/local/lib/python3.6/dist-packages (from pyfasttext) (0.16.0)\n",
            "Requirement already satisfied: numpy in /usr/local/lib/python3.6/dist-packages (from pyfasttext) (1.14.6)\n",
            "Requirement already satisfied: cysignals in /usr/local/lib/python3.6/dist-packages (from pyfasttext) (1.7.2)\n",
            "Requirement already satisfied: Cython>=0.28 in /usr/local/lib/python3.6/dist-packages (from cysignals->pyfasttext) (0.29)\n"
          ],
          "name": "stdout"
        }
      ]
    },
    {
      "metadata": {
        "id": "fcATxs2UJ_ZL",
        "colab_type": "code",
        "colab": {}
      },
      "cell_type": "code",
      "source": [
        "import numpy as np \n",
        "import pandas as pd\n",
        "import csv\n",
        "from gensim.models import KeyedVectors\n",
        "from pyfasttext import FastText\n",
        "import matplotlib.pyplot as plt\n",
        "from scipy.stats import pearsonr\n",
        "import matplotlib.pyplot as plt\n",
        "import nltk\n",
        "import string\n",
        "import re\n",
        "import gzip\n",
        "from sklearn.model_selection import train_test_split\n",
        "\n",
        "%matplotlib inline\n",
        "\n"
      ],
      "execution_count": 0,
      "outputs": []
    },
    {
      "metadata": {
        "id": "BofYBD0H8NSV",
        "colab_type": "code",
        "outputId": "87896c00-c43b-47c0-b5ff-0ff07fba5952",
        "colab": {
          "base_uri": "https://localhost:8080/",
          "height": 102
        }
      },
      "cell_type": "code",
      "source": [
        "nltk.download('stopwords')\n",
        "nltk.download('punkt')"
      ],
      "execution_count": 0,
      "outputs": [
        {
          "output_type": "stream",
          "text": [
            "[nltk_data] Downloading package stopwords to /root/nltk_data...\n",
            "[nltk_data]   Package stopwords is already up-to-date!\n",
            "[nltk_data] Downloading package punkt to /root/nltk_data...\n",
            "[nltk_data]   Package punkt is already up-to-date!\n"
          ],
          "name": "stdout"
        },
        {
          "output_type": "execute_result",
          "data": {
            "text/plain": [
              "True"
            ]
          },
          "metadata": {
            "tags": []
          },
          "execution_count": 9
        }
      ]
    },
    {
      "metadata": {
        "id": "2Tnofh6PLqSC",
        "colab_type": "code",
        "colab": {}
      },
      "cell_type": "code",
      "source": [
        "base_dir = 'drive/My Drive/btp/'\n",
        "data_dir = base_dir\n",
        "# embedding_file = base_dir + 'GoogleNews-vectors-negative300.bin.gz'\n",
        "embedding_file = 'fasttext/crawl-300d-2M-subword.bin'\n",
        "\n",
        "health_data_dir = base_dir + 'reviews_Health_and_Personal_Care_5.json.gz'\n",
        "elec_data_dir = base_dir + 'reviews_Electronics_5.json.gz'\n",
        "\n",
        "NUM_TOT = 10\n",
        "\n",
        "data = \"elec\""
      ],
      "execution_count": 0,
      "outputs": []
    },
    {
      "metadata": {
        "id": "lBcv8hsJMkdU",
        "colab_type": "code",
        "colab": {}
      },
      "cell_type": "code",
      "source": [
        "def parse(path):\n",
        "  g = gzip.open(path, 'rb')\n",
        "  for l in g:\n",
        "    yield eval(l)\n",
        "\n",
        "def getDF(path):\n",
        "  i = 0\n",
        "  df = {}\n",
        "  for d in parse(path):\n",
        "    df[i] = d\n",
        "    i += 1\n",
        "  return pd.DataFrame.from_dict(df, orient='index')"
      ],
      "execution_count": 0,
      "outputs": []
    },
    {
      "metadata": {
        "id": "UK1nH1TgMl9s",
        "colab_type": "code",
        "colab": {}
      },
      "cell_type": "code",
      "source": [
        "my_vocab = []\n",
        "\n",
        "# https://www.kaggle.com/currie32/the-importance-of-cleaning-text\n",
        "def preprocess_text(text):\n",
        "\n",
        "    text = re.sub(r'\\'s', ' is', text)\n",
        "    text = re.sub(r\"\\'ve\", \" have\", text)\n",
        "    text = re.sub(r\"can't\", \"cannot\", text)\n",
        "    text = re.sub(r\"n't\", \" not\", text)\n",
        "    text = re.sub(r\"I'm\", \"I am\", text)\n",
        "    text = re.sub(r\"\\'re\", \" are\", text)\n",
        "    text = re.sub(r\"\\'d\", \" would\", text)\n",
        "    text = re.sub(r\"\\'ll\", \" will\", text)\n",
        "    text = re.sub(r\"(?P<num>\\d+)k\", r'\\g<num>000', text)\n",
        "    text = re.sub(r\"e-mail\", \"email\", text)\n",
        "    text = re.sub(r\"\\s+\", \" \", text)\n",
        "    text = re.sub(r\" \\d+ \", \" number \", text)\n",
        "    text = re.sub(r'([^A-Za-z0-9])', r' \\1 ', text)\n",
        "    \n",
        "    return text\n",
        "\n",
        "def build_vocab_and_preprocess(X, remove_stopwords = False, remove_punctuation = True, lowercase = False):\n",
        "    \n",
        "    punc = string.punctuation\n",
        "    stopwords = list(set(nltk.corpus.stopwords.words('english')))\n",
        "    \n",
        "    modified_X = []\n",
        "    \n",
        "    for i in range(X.shape[0]):\n",
        "        sent = X[i, 0]\n",
        "        if len(sent) < 1 :\n",
        "            sent = ''\n",
        "        \n",
        "        sent = preprocess_text(sent)\n",
        "        \n",
        "        words = nltk.word_tokenize(sent)\n",
        "        words = [i for i in words if len(i) > 3]\n",
        "        if remove_punctuation:\n",
        "            words = [i for i in words if i not in punc]\n",
        "        if lowercase:\n",
        "            words = [i.lower() for i in words]\n",
        "        if remove_stopwords:\n",
        "            words = [i for i in words if i not in stopwords]\n",
        "        my_vocab.extend(words)\n",
        "       \n",
        "        modified_X.append(words)\n",
        "    \n",
        "    return modified_X\n",
        "        \n",
        "    "
      ],
      "execution_count": 0,
      "outputs": []
    },
    {
      "metadata": {
        "id": "IGoA2lmcMpeG",
        "colab_type": "code",
        "colab": {}
      },
      "cell_type": "code",
      "source": [
        "def get_data():\n",
        "    if data == \"health\":\n",
        "        data_df = getDF(health_data_dir)\n",
        "    else:\n",
        "        data_df = getDF(elec_data_dir)\n",
        "    \n",
        "    ratings = data_df.overall.values\n",
        "    ratings = ratings.reshape((ratings.shape[0],1))\n",
        "\n",
        "    help_tuple = data_df.helpful.values\n",
        "    help_tuple = help_tuple.reshape((help_tuple.shape[0],1))\n",
        "    help_matrix = (np.asarray([np.asarray(t[0]) for t in help_tuple])).astype('float')\n",
        "    help_matrix[:,0] = help_matrix[:,0] / help_matrix[:,1]\n",
        "\n",
        "    rev_text = data_df.reviewText.values\n",
        "    rev_text = rev_text.reshape((rev_text.shape[0],1))\n",
        "\n",
        "    indices = np.logical_and(help_matrix[:,1] >= NUM_TOT, help_matrix[:,0] >= 0.1)\n",
        "    indices = np.logical_and(indices, help_matrix[:,0] <= 0.8)\n",
        "    ratings = ratings[indices]\n",
        "    rev_text = rev_text[indices]\n",
        "    help_matrix = np.expand_dims(((help_matrix[indices])[:,0]), axis = 1)\n",
        "    \n",
        "    rev_text = build_vocab_and_preprocess(rev_text, remove_stopwords=True,\n",
        "                                          remove_punctuation= True, lowercase=True)\n",
        "     \n",
        "    \n",
        "    return ratings, rev_text, help_matrix\n",
        "\n",
        "    "
      ],
      "execution_count": 0,
      "outputs": []
    },
    {
      "metadata": {
        "id": "rA4QyTuPPwrG",
        "colab_type": "code",
        "outputId": "904e3031-065b-4817-90a0-dbec8b05901e",
        "colab": {
          "base_uri": "https://localhost:8080/",
          "height": 241
        }
      },
      "cell_type": "code",
      "source": [
        "ratings, rev_text, help_matrix = get_data()\n",
        "\n",
        "print(ratings.shape)\n",
        "print(ratings[:3,:])\n",
        "\n",
        "print(len(rev_text))\n",
        "print(rev_text[:3])\n",
        "\n",
        "print(help_matrix.shape)\n",
        "print(help_matrix[:3,:])\n"
      ],
      "execution_count": 0,
      "outputs": [
        {
          "output_type": "stream",
          "text": [
            "/usr/local/lib/python3.6/dist-packages/ipykernel_launcher.py:13: RuntimeWarning: invalid value encountered in true_divide\n",
            "  del sys.path[0]\n"
          ],
          "name": "stderr"
        },
        {
          "output_type": "stream",
          "text": [
            "(30724, 1)\n",
            "[[1.]\n",
            " [5.]\n",
            " [1.]]\n",
            "30724\n",
            "[['professional', 'truck', 'driver', 'bought', 'number', 'truck', 'stop', 'hoping', 'make', 'life', 'easier', 'rand', 'mcnally', 'listening', 'first', 'thing', 'charging', 'connect', 'laptop', 'install', 'software', 'attempt', 'update', 'software', 'detected', 'problem', 'update', 'wanted', 'home', 'address', 'could', 'sent', 'patch', 'card', 'hello', 'think', 'unusual', 'home', 'address', 'friend', 'checks', 'weekly', 'might', 'check', 'every', 'months', 'live', 'truck', 'truck', 'stops', 'need', 'make', 'patch', 'available', 'card', 'send', 'cards', 'truck', 'stops', 'devices', 'sold', 'update', 'program', 'multiple', 'times', 'program', 'said', 'number', 'completely', 'updated', 'programmed', 'height', 'length', 'weight', 'told', 'preferred', 'highways', 'parked', 'truck', 'stop', 'cincinnati', 'area', 'next', 'pickup', 'number', 'miles', 'freeway', 'side', 'couple', 'blocks', 'cell', 'phone', 'sprint', 'said', 'freeway', 'pickup', 'number', 'routed', 'thru', 'number', 'miles', 'residential', 'streets', 'finally', 'getting', 'pickup', 'exciting', 'especially', 'since', 'every', 'time', 'refused', 'turn', 'street', 'posted', 'trucks', 'number', 'took', 'almost', 'number', 'minutes', 'figure', 'route', 'happened', 'multiple', 'times', 'short', 'trip', 'decided', 'give', 'another', 'chance', 'pickup', 'north', 'side', 'cincinnati', 'needed', 'head', 'phoenix', 'easy', 'route', 'drive', 'west', 'south', 'intersection', 'indeed', 'cell', 'phone', 'advised', 'however', 'wanted', 'route', 'surface', 'streets', 'across', 'city', 'pick', 'side', 'city', 'turned', 'next', 'time', 'passed', 'truck', 'stop', 'chain', 'purchased', 'returned', 'money', 'back', 'spent', 'cheap', 'printer', 'take', 'minute', 'route', 'google', 'print', 'gotten', 'lost', 'several', 'cross', 'country', 'trips'], ['quality', 'excellent', 'instructions', 'clear', 'clear', 'tilt', 'feature', 'enough', 'level', 'finished', 'careful', 'wall', 'bracket', 'real', 'vertical', 'using', 'number', 'inch', 'computer', 'screen', 'really', 'need', 'level', 'reading', 'everything', 'needed', 'plus', 'lots', 'extra', 'hardware', 'different', 'situations'], ['checked', 'around', 'amazon', 'well', 'sites', 'decided', 'needed', 'read', 'reviews', 'looked', 'pictures', 'bought', 'received', 'today', 'unpacked', 'read', 'instructions', 'immediately', 'filled', 'return', 'request', 'amazon', 'mounts', 'heavy', 'require', 'screws', 'mount', 'wall', 'kidding', 'number', 'screws', 'studs', 'damage', 'wall', 'necessary', 'joke', 'bolts', 'ever', 'heard', 'screws', 'issue', 'hard', 'move', 'bought', 'articulating', 'wall', 'mount', 'reason', 'expect', 'able', 'move', 'without', 'wrench', 'hand']]\n",
            "(30724, 1)\n",
            "[[0.8       ]\n",
            " [0.78947368]\n",
            " [0.44444444]]\n"
          ],
          "name": "stdout"
        }
      ]
    },
    {
      "metadata": {
        "id": "dVmnx-_6zLNr",
        "colab_type": "code",
        "outputId": "50ab8300-ec75-4777-ad8b-3ecea1d0f448",
        "colab": {
          "base_uri": "https://localhost:8080/",
          "height": 333
        }
      },
      "cell_type": "code",
      "source": [
        "plt.hist(help_matrix)\n"
      ],
      "execution_count": 0,
      "outputs": [
        {
          "output_type": "execute_result",
          "data": {
            "text/plain": [
              "(array([1743., 1768., 1918., 1532., 1794., 2217., 2335., 3316., 5703.,\n",
              "        8398.]),\n",
              " array([0.1 , 0.17, 0.24, 0.31, 0.38, 0.45, 0.52, 0.59, 0.66, 0.73, 0.8 ]),\n",
              " <a list of 10 Patch objects>)"
            ]
          },
          "metadata": {
            "tags": []
          },
          "execution_count": 15
        },
        {
          "output_type": "display_data",
          "data": {
            "image/png": "[encoded data removed]",
            "text/plain": [
              "<matplotlib.figure.Figure at 0x7f5c70a73da0>"
            ]
          },
          "metadata": {
            "tags": []
          }
        }
      ]
    },
    {
      "metadata": {
        "id": "_oIFtA0nXbL8",
        "colab_type": "code",
        "outputId": "55c1dff8-d6b5-45d4-a376-16c268d32ad4",
        "colab": {
          "base_uri": "https://localhost:8080/",
          "height": 34
        }
      },
      "cell_type": "code",
      "source": [
        "my_vocab = list(set(my_vocab))\n",
        "print(len(my_vocab))\n",
        "\n",
        "word_to_index = {}\n",
        "index_to_word = {}\n",
        "i = 1\n",
        "for word in my_vocab:\n",
        "    word_to_index[word] = i\n",
        "    index_to_word[i] = word\n",
        "    i += 1\n"
      ],
      "execution_count": 0,
      "outputs": [
        {
          "output_type": "stream",
          "text": [
            "74191\n"
          ],
          "name": "stdout"
        }
      ]
    },
    {
      "metadata": {
        "id": "-CjVTn6fYTsr",
        "colab_type": "code",
        "colab": {}
      },
      "cell_type": "code",
      "source": [
        "# print('Loading Word Embeddings \\n')\n",
        "\n",
        "# wordvec = KeyedVectors.load_word2vec_format(embedding_file, binary = True)\n",
        "\n",
        "# embedding_dim = wordvec.vector_size\n",
        "# print('Embedding Dimension = ' + str(embedding_dim))"
      ],
      "execution_count": 0,
      "outputs": []
    },
    {
      "metadata": {
        "id": "CBftZQM38qc5",
        "colab_type": "code",
        "outputId": "924d310b-a9a6-4ce7-a4ac-063087366e8f",
        "colab": {
          "base_uri": "https://localhost:8080/",
          "height": 68
        }
      },
      "cell_type": "code",
      "source": [
        "print('Loading Word Embeddings \\n')\n",
        "\n",
        "wordvec = FastText('fasttext/crawl-300d-2M-subword.bin')\n",
        "\n",
        "embedding_dim = 300\n",
        "print('Embedding Dimension = ' + str(embedding_dim))"
      ],
      "execution_count": 0,
      "outputs": [
        {
          "output_type": "stream",
          "text": [
            "Loading Word Embeddings \n",
            "\n",
            "Embedding Dimension = 300\n"
          ],
          "name": "stdout"
        }
      ]
    },
    {
      "metadata": {
        "id": "73pEersUaFoB",
        "colab_type": "code",
        "outputId": "1c86fe6c-2689-431c-b41c-4a0a5b255d7b",
        "colab": {
          "base_uri": "https://localhost:8080/",
          "height": 34
        }
      },
      "cell_type": "code",
      "source": [
        "from keras.layers import Embedding\n",
        "\n",
        "def pretrained_embedding_layer(word_to_index, get_unk = False, fasttext = True):\n",
        "    \n",
        "    vocab_len  = len(word_to_index) + 1\n",
        "    \n",
        "    embedding_matrix = np.zeros((vocab_len, embedding_dim))\n",
        "    \n",
        "    if fasttext == True :\n",
        "      for word, index in word_to_index.items():\n",
        "        emb_vec = wordvec.get_numpy_vector(word)\n",
        "        embedding_matrix[index] = emb_vec\n",
        "    \n",
        "    else:\n",
        "      unk_count = 0\n",
        "      for word, index in word_to_index.items():\n",
        "          if word in wordvec.vocab:\n",
        "              emb_vec = wordvec[word]\n",
        "              embedding_matrix[index] = emb_vec\n",
        "          else:\n",
        "              unk_count += 1\n",
        "\n",
        "      if get_unk:\n",
        "        print(unk_count)\n",
        "    \n",
        "    embedding_layer = Embedding(vocab_len, embedding_dim, trainable = False, name = 'Embedding_Layer')\n",
        "    \n",
        "    embedding_layer.build((None, ))\n",
        "    \n",
        "    embedding_layer.set_weights([embedding_matrix])\n",
        "    \n",
        "    return embedding_layer        "
      ],
      "execution_count": 0,
      "outputs": [
        {
          "output_type": "stream",
          "text": [
            "Using TensorFlow backend.\n"
          ],
          "name": "stderr"
        }
      ]
    },
    {
      "metadata": {
        "id": "YZbJ39RqaWFb",
        "colab_type": "code",
        "outputId": "e8882318-b36e-4a60-b40b-db0561ccbe28",
        "colab": {
          "base_uri": "https://localhost:8080/",
          "height": 34
        }
      },
      "cell_type": "code",
      "source": [
        "embedding_layer = pretrained_embedding_layer(word_to_index, get_unk = True)\n",
        "print(\" \", embedding_layer.get_weights()[0][1][3])\n",
        "embedding_layer = None"
      ],
      "execution_count": 0,
      "outputs": [
        {
          "output_type": "stream",
          "text": [
            "  0.0166621\n"
          ],
          "name": "stdout"
        }
      ]
    },
    {
      "metadata": {
        "id": "Oj17xisIabMa",
        "colab_type": "code",
        "colab": {}
      },
      "cell_type": "code",
      "source": [
        "def index_data(X):\n",
        "    X_temp = []\n",
        "    for rev in X:\n",
        "      temp = [word_to_index[i] for i in rev]\n",
        "      X_temp.append(temp)\n",
        "    return X_temp"
      ],
      "execution_count": 0,
      "outputs": []
    },
    {
      "metadata": {
        "id": "eLu5ok-Va9N_",
        "colab_type": "code",
        "colab": {}
      },
      "cell_type": "code",
      "source": [
        "X = index_data(rev_text)\n"
      ],
      "execution_count": 0,
      "outputs": []
    },
    {
      "metadata": {
        "id": "_M_2iPMzGp4M",
        "colab_type": "code",
        "outputId": "eb7b0502-6013-4c10-9803-167d7f7754da",
        "colab": {
          "base_uri": "https://localhost:8080/",
          "height": 85
        }
      },
      "cell_type": "code",
      "source": [
        "temp = np.asarray([len(i) for i in X])\n",
        "print(np.min(temp))\n",
        "print(np.max(temp))\n",
        "print(np.mean(temp))\n",
        "print(np.std(temp))\n"
      ],
      "execution_count": 0,
      "outputs": [
        {
          "output_type": "stream",
          "text": [
            "0\n",
            "2879\n",
            "108.6619580783752\n",
            "130.70270021514304\n"
          ],
          "name": "stdout"
        }
      ]
    },
    {
      "metadata": {
        "id": "BFKYt1rdG5wd",
        "colab_type": "code",
        "outputId": "6a7e38a5-71d3-4b96-9185-808205c0fce2",
        "colab": {
          "base_uri": "https://localhost:8080/",
          "height": 34
        }
      },
      "cell_type": "code",
      "source": [
        "print(np.sum(temp > 200))"
      ],
      "execution_count": 0,
      "outputs": [
        {
          "output_type": "stream",
          "text": [
            "4183\n"
          ],
          "name": "stdout"
        }
      ]
    },
    {
      "metadata": {
        "id": "feF86LXKbUnF",
        "colab_type": "code",
        "colab": {}
      },
      "cell_type": "code",
      "source": [
        "from keras.preprocessing.sequence import pad_sequences\n",
        "max_len = 200\n",
        "\n",
        "def pad_data(X):\n",
        "    padded_X = pad_sequences(X, maxlen = max_len, padding = 'post', truncating = 'post')\n",
        "    return padded_X"
      ],
      "execution_count": 0,
      "outputs": []
    },
    {
      "metadata": {
        "id": "J3Ux-nc3cLUm",
        "colab_type": "code",
        "outputId": "b6662d90-4e3f-4163-b535-ea855ef3856e",
        "colab": {
          "base_uri": "https://localhost:8080/",
          "height": 901
        }
      },
      "cell_type": "code",
      "source": [
        "X_padded = pad_data(X)\n",
        "\n",
        "print(X_padded.shape)\n",
        "\n",
        "print(X_padded[:3, :])"
      ],
      "execution_count": 0,
      "outputs": [
        {
          "output_type": "stream",
          "text": [
            "(30724, 200)\n",
            "[[48960 37153 38002 19625 21653 37153 43977 43324 11095 25493 14918 64808\n",
            "  65217 54877 33087 54871 62486 57712 72133 38475 38043 25553 28151 38043\n",
            "  27419 40338 28151  7612 20603 64644 26168  9020 58148 23541 21050 17076\n",
            "  11648 20603 64644 73773 43386 39844 65025 45560  3679 51938 29994 37153\n",
            "  37153 34317  5612 11095 58148 68840 23541 16237 57520 37153 34317 46344\n",
            "  68673 28151 37711 13538 33760 37711 31491 21653 40906 36827 33609 48685\n",
            "  74172 36001 33644 67617 25734 20346 37153 43977 45575 40441 14264 40406\n",
            "  21653 20948 49092 38602 32528 54174 13959  2378 48159 31491 49092 40406\n",
            "  21653 48624  7920 21653 20948 68758 54566 14496 17102 40406  3543 53395\n",
            "  16176  3679 33663 33945 12083 42616 30757 67843 21653 14191 30304 21653\n",
            "  34225 23154 21243 46355 13538 33760 42504 62039 51166  8971 10242  7635\n",
            "  40406 60257 38602 45575 18091 45992 55589 66069 21243 44722 38669 60276\n",
            "  19551 73230 13959  2378 32288 15987  7612 21243 65383 54566 22791 44975\n",
            "  25394 38602 44975   959 14264 33663 53359 37153 43977 21977  8902 22817\n",
            "  35371 70767 13988 67660 20605 45759 13543 21243 59598 21165 73708 16632\n",
            "  13193 72162 17251 61420     0     0     0     0     0     0     0     0\n",
            "      0     0     0     0     0     0     0     0]\n",
            " [73231 27994 48153 39534 39534 26630 15010 59583  7747 65392 36314 47980\n",
            "  34206 65037 30449 32749 21653 45710 50424 62667 60867  5612  7747 44011\n",
            "  59865 18091 37498 67380 68465 58576 42543 12648     0     0     0     0\n",
            "      0     0     0     0     0     0     0     0     0     0     0     0\n",
            "      0     0     0     0     0     0     0     0     0     0     0     0\n",
            "      0     0     0     0     0     0     0     0     0     0     0     0\n",
            "      0     0     0     0     0     0     0     0     0     0     0     0\n",
            "      0     0     0     0     0     0     0     0     0     0     0     0\n",
            "      0     0     0     0     0     0     0     0     0     0     0     0\n",
            "      0     0     0     0     0     0     0     0     0     0     0     0\n",
            "      0     0     0     0     0     0     0     0     0     0     0     0\n",
            "      0     0     0     0     0     0     0     0     0     0     0     0\n",
            "      0     0     0     0     0     0     0     0     0     0     0     0\n",
            "      0     0     0     0     0     0     0     0     0     0     0     0\n",
            "      0     0     0     0     0     0     0     0     0     0     0     0\n",
            "      0     0     0     0     0     0     0     0     0     0     0     0\n",
            "      0     0     0     0     0     0     0     0]\n",
            " [52558  5263 16873 50937 51966 51166 18091 40341  2754 12386 36908 19625\n",
            "  62757 21515 55598 40341 48153 16017 54146 38149  6372 16873  6319 13752\n",
            "  11901 12634 13625 47980  9646 21653 12634 28135 26898 47980 20830 41886\n",
            "  56474 39172 63597 12634 51502 23332 64658 19625 51232 47980 13625 58108\n",
            "  17064 30812 64658 15804 52969 53829     0     0     0     0     0     0\n",
            "      0     0     0     0     0     0     0     0     0     0     0     0\n",
            "      0     0     0     0     0     0     0     0     0     0     0     0\n",
            "      0     0     0     0     0     0     0     0     0     0     0     0\n",
            "      0     0     0     0     0     0     0     0     0     0     0     0\n",
            "      0     0     0     0     0     0     0     0     0     0     0     0\n",
            "      0     0     0     0     0     0     0     0     0     0     0     0\n",
            "      0     0     0     0     0     0     0     0     0     0     0     0\n",
            "      0     0     0     0     0     0     0     0     0     0     0     0\n",
            "      0     0     0     0     0     0     0     0     0     0     0     0\n",
            "      0     0     0     0     0     0     0     0     0     0     0     0\n",
            "      0     0     0     0     0     0     0     0     0     0     0     0\n",
            "      0     0     0     0     0     0     0     0]]\n"
          ],
          "name": "stdout"
        }
      ]
    },
    {
      "metadata": {
        "id": "03_H5IjbcXvT",
        "colab_type": "code",
        "colab": {}
      },
      "cell_type": "code",
      "source": [
        "help_matrix[help_matrix >= 0.6] = 1\n",
        "help_matrix[help_matrix < 0.6] = 0\n",
        "rat_train, rat_test, rev_train, rev_test, help_train, help_test = \\\n",
        "train_test_split(ratings, X_padded, help_matrix, test_size=0.2, random_state=1)\n",
        "\n",
        "rat_train, rat_dev, rev_train, rev_dev, help_train, help_dev = \\\n",
        "train_test_split(rat_train, rev_train, help_train, test_size = 0.2, random_state=1)"
      ],
      "execution_count": 0,
      "outputs": []
    },
    {
      "metadata": {
        "id": "9ZgaO5A02M5b",
        "colab_type": "code",
        "outputId": "aabc01e9-d0d2-45c0-9694-e144c5b27a03",
        "colab": {
          "base_uri": "https://localhost:8080/",
          "height": 350
        }
      },
      "cell_type": "code",
      "source": [
        "print(np.sum(help_train)/ help_train.shape[0])\n",
        "plt.hist(help_train)"
      ],
      "execution_count": 0,
      "outputs": [
        {
          "output_type": "stream",
          "text": [
            "0.5628846056044348\n"
          ],
          "name": "stdout"
        },
        {
          "output_type": "execute_result",
          "data": {
            "text/plain": [
              "(array([ 8595.,     0.,     0.,     0.,     0.,     0.,     0.,     0.,\n",
              "            0., 11068.]),\n",
              " array([0. , 0.1, 0.2, 0.3, 0.4, 0.5, 0.6, 0.7, 0.8, 0.9, 1. ]),\n",
              " <a list of 10 Patch objects>)"
            ]
          },
          "metadata": {
            "tags": []
          },
          "execution_count": 28
        },
        {
          "output_type": "display_data",
          "data": {
            "image/png": "[encoded data removed]",
            "text/plain": [
              "<matplotlib.figure.Figure at 0x7f5c73f60780>"
            ]
          },
          "metadata": {
            "tags": []
          }
        }
      ]
    },
    {
      "metadata": {
        "id": "uJEvxDBp2cs6",
        "colab_type": "code",
        "outputId": "6983dc1e-0fc4-4247-9200-f08303a6dc15",
        "colab": {
          "base_uri": "https://localhost:8080/",
          "height": 350
        }
      },
      "cell_type": "code",
      "source": [
        "print(np.sum(help_test)/ help_test.shape[0])\n",
        "plt.hist(help_test)"
      ],
      "execution_count": 0,
      "outputs": [
        {
          "output_type": "stream",
          "text": [
            "0.5617575264442636\n"
          ],
          "name": "stdout"
        },
        {
          "output_type": "execute_result",
          "data": {
            "text/plain": [
              "(array([2693.,    0.,    0.,    0.,    0.,    0.,    0.,    0.,    0.,\n",
              "        3452.]),\n",
              " array([0. , 0.1, 0.2, 0.3, 0.4, 0.5, 0.6, 0.7, 0.8, 0.9, 1. ]),\n",
              " <a list of 10 Patch objects>)"
            ]
          },
          "metadata": {
            "tags": []
          },
          "execution_count": 29
        },
        {
          "output_type": "display_data",
          "data": {
            "image/png": "[encoded data removed]",
            "text/plain": [
              "<matplotlib.figure.Figure at 0x7f5c73f602b0>"
            ]
          },
          "metadata": {
            "tags": []
          }
        }
      ]
    },
    {
      "metadata": {
        "id": "epXPE0kaCjIu",
        "colab_type": "code",
        "outputId": "68452938-ca88-4f78-e346-211184a1cc79",
        "colab": {
          "base_uri": "https://localhost:8080/",
          "height": 350
        }
      },
      "cell_type": "code",
      "source": [
        "print(np.sum(help_dev)/ help_dev.shape[0])\n",
        "plt.hist(help_dev)"
      ],
      "execution_count": 0,
      "outputs": [
        {
          "output_type": "stream",
          "text": [
            "0.5685516680227828\n"
          ],
          "name": "stdout"
        },
        {
          "output_type": "execute_result",
          "data": {
            "text/plain": [
              "(array([2121.,    0.,    0.,    0.,    0.,    0.,    0.,    0.,    0.,\n",
              "        2795.]),\n",
              " array([0. , 0.1, 0.2, 0.3, 0.4, 0.5, 0.6, 0.7, 0.8, 0.9, 1. ]),\n",
              " <a list of 10 Patch objects>)"
            ]
          },
          "metadata": {
            "tags": []
          },
          "execution_count": 30
        },
        {
          "output_type": "display_data",
          "data": {
            "image/png": "[encoded data removed]",
            "text/plain": [
              "<matplotlib.figure.Figure at 0x7f5c78971d68>"
            ]
          },
          "metadata": {
            "tags": []
          }
        }
      ]
    },
    {
      "metadata": {
        "id": "smMCFbVYmMVT",
        "colab_type": "code",
        "colab": {}
      },
      "cell_type": "code",
      "source": [
        "np.random.seed(0)\n",
        "from keras.models import Model, load_model\n",
        "from keras.layers import Input, CuDNNLSTM, Activation, Lambda, Dense, Dropout, Bidirectional, BatchNormalization\n",
        "from keras import backend as K\n",
        "from keras import optimizers, regularizers, initializers\n",
        "from keras.callbacks import EarlyStopping, TensorBoard\n",
        "import tensorflow as tf\n",
        "import time"
      ],
      "execution_count": 0,
      "outputs": []
    },
    {
      "metadata": {
        "id": "QciE12H7mW5v",
        "colab_type": "code",
        "colab": {}
      },
      "cell_type": "code",
      "source": [
        "INPUT_SHAPE = (max_len, )\n",
        "CLIP_NORM = 1.5\n",
        "EPOCHS = 100\n",
        "BATCH_SIZE = 64\n",
        "\n",
        "LSTM_DIM = 50\n",
        "RECURRENT_DROPOUT = 0.0\n",
        "DROPOUT = 0.3\n",
        "KERNEL_REGULARIZER = 0.0\n",
        "ACTIVITY_REGULARIZER = 0.0\n",
        "\n",
        "PAT = 5"
      ],
      "execution_count": 0,
      "outputs": []
    },
    {
      "metadata": {
        "id": "sn4vQGpImdDk",
        "colab_type": "code",
        "colab": {}
      },
      "cell_type": "code",
      "source": [
        "def classify(input_shape, wordvec, word_to_index, lstm_dim, drop, rec_drop, kern_r, act_r):\n",
        "    \n",
        "    text = Input(shape = input_shape, dtype = 'int64', name = 'A')\n",
        "    \n",
        "    embedding_layer = pretrained_embedding_layer(word_to_index)\n",
        "\n",
        "    x = embedding_layer(text)\n",
        "\n",
        "#     x = Dropout(0.25, name = 'Dropout_Regularization_1')(x)\n",
        "    \n",
        "    lstm = Bidirectional(CuDNNLSTM(lstm_dim, #activation = 'relu',dropout = drop,\n",
        "                     #recurrent_dropout = rec_drop,\n",
        "                     activity_regularizer = regularizers.l2(act_r),\n",
        "                     kernel_regularizer = regularizers.l2(kern_r), name = 'LSTM'))\n",
        "\n",
        "    x = lstm(x)\n",
        "\n",
        "    x = Dropout(0.25,  name = 'Dropout_Regularization_2')(x)\n",
        "    \n",
        "    x = Dense(20, activation = 'relu', name = 'Fully_Connected_Layer_1')(x)\n",
        "    \n",
        "    x = Dropout(0.2,  name = 'Dropout_Regularization_3')(x)\n",
        "    \n",
        "    helpr = Dense(1, activation = 'sigmoid', name = 'Fully_Connected_Layer_2')(x)\n",
        "    \n",
        "    model = Model(inputs = [text], outputs = [helpr], name = 'my_model')\n",
        "    \n",
        "    return model"
      ],
      "execution_count": 0,
      "outputs": []
    },
    {
      "metadata": {
        "id": "sT79CkBYnhlD",
        "colab_type": "code",
        "colab": {}
      },
      "cell_type": "code",
      "source": [
        "def print_model_history(trained_model):\n",
        "    fig, axs = plt.subplots(1,2,figsize=(15,5))\n",
        "        \n",
        "    axs[0].plot(trained_model.history['loss'])\n",
        "    axs[0].plot(trained_model.history['val_loss'])\n",
        "    axs[0].set_title('Model Loss')\n",
        "    axs[0].set_ylabel('Loss')\n",
        "    axs[0].set_xlabel('Epoch')\n",
        "    axs[0].legend(['Train', 'Validation'], loc='upper right')\n",
        "\n",
        "    axs[1].plot(trained_model.history['acc'])\n",
        "    axs[1].plot(trained_model.history['val_acc'])\n",
        "    axs[1].set_title('Model Accuracy')\n",
        "    axs[1].set_ylabel('Accuracy')\n",
        "    axs[1].set_xlabel('Epoch')\n",
        "    axs[1].legend(['Train', 'Validation'], loc='upper right')\n",
        "    plt.show()\n",
        "    "
      ],
      "execution_count": 0,
      "outputs": []
    },
    {
      "metadata": {
        "id": "3l1vaLNonkju",
        "colab_type": "code",
        "colab": {}
      },
      "cell_type": "code",
      "source": [
        "def run_model(clip, X_train_padded, X_dev_padded, Y_train, Y_dev, batch, num_epochs, model):\n",
        "    model.summary()\n",
        "    \n",
        "    with tf.name_scope('Train') as scope:\n",
        "\n",
        "        model.compile(loss='binary_crossentropy', \n",
        "                      optimizer = optimizers.Adam(), \n",
        "                      metrics=['accuracy'])\n",
        "\n",
        "        earlystop = EarlyStopping(monitor = 'val_loss', \n",
        "                                  min_delta = 0 , patience = PAT, \n",
        "                                  verbose = 1, mode = 'auto')\n",
        "#         tensorboard = TensorBoard(log_dir = \"../logs/{}\".format(time.time()), histogram_freq = 1,\n",
        "#                                   write_graph = True, write_images = False )\n",
        "\n",
        "        callbacks_list = [earlystop]\n",
        "\n",
        "        trained_model = model.fit([X_train_padded], [Y_train], \n",
        "                                  epochs = num_epochs, batch_size = batch, \n",
        "                                  shuffle = True,\n",
        "                                  validation_data = [[X_dev_padded], [Y_dev]],\n",
        "                                  callbacks = callbacks_list)\n",
        "            \n",
        "    return trained_model, model"
      ],
      "execution_count": 0,
      "outputs": []
    },
    {
      "metadata": {
        "id": "_XwCJsiboDr7",
        "colab_type": "code",
        "outputId": "8cb9d6cd-2771-434d-c682-7e86d357d5e6",
        "colab": {
          "base_uri": "https://localhost:8080/",
          "height": 836
        }
      },
      "cell_type": "code",
      "source": [
        "K.clear_session()\n",
        "model = classify(INPUT_SHAPE, wordvec, word_to_index,\n",
        "                 LSTM_DIM, DROPOUT, RECURRENT_DROPOUT, \n",
        "                 KERNEL_REGULARIZER, ACTIVITY_REGULARIZER)\n",
        "trained_model, model = run_model(CLIP_NORM, rev_train, rev_dev,\n",
        "                                 help_train, help_dev, \n",
        "                                 BATCH_SIZE, EPOCHS, model)"
      ],
      "execution_count": 0,
      "outputs": [
        {
          "output_type": "stream",
          "text": [
            "_________________________________________________________________\n",
            "Layer (type)                 Output Shape              Param #   \n",
            "=================================================================\n",
            "A (InputLayer)               (None, 200)               0         \n",
            "_________________________________________________________________\n",
            "Embedding_Layer (Embedding)  (None, 200, 300)          22257600  \n",
            "_________________________________________________________________\n",
            "bidirectional_1 (Bidirection (None, 100)               140800    \n",
            "_________________________________________________________________\n",
            "Dropout_Regularization_2 (Dr (None, 100)               0         \n",
            "_________________________________________________________________\n",
            "Fully_Connected_Layer_1 (Den (None, 20)                2020      \n",
            "_________________________________________________________________\n",
            "Dropout_Regularization_3 (Dr (None, 20)                0         \n",
            "_________________________________________________________________\n",
            "Fully_Connected_Layer_2 (Den (None, 1)                 21        \n",
            "=================================================================\n",
            "Total params: 22,400,441\n",
            "Trainable params: 142,841\n",
            "Non-trainable params: 22,257,600\n",
            "_________________________________________________________________\n",
            "Train on 19663 samples, validate on 4916 samples\n",
            "Epoch 1/100\n",
            "19663/19663 [==============================] - 21s 1ms/step - loss: 0.6673 - acc: 0.5935 - val_loss: 0.6392 - val_acc: 0.6324\n",
            "Epoch 2/100\n",
            "19663/19663 [==============================] - 20s 1ms/step - loss: 0.6474 - acc: 0.6307 - val_loss: 0.6370 - val_acc: 0.6397\n",
            "Epoch 3/100\n",
            "19663/19663 [==============================] - 20s 1ms/step - loss: 0.6383 - acc: 0.6373 - val_loss: 0.6266 - val_acc: 0.6438\n",
            "Epoch 4/100\n",
            "19663/19663 [==============================] - 20s 1ms/step - loss: 0.6328 - acc: 0.6429 - val_loss: 0.6254 - val_acc: 0.6432\n",
            "Epoch 5/100\n",
            "19663/19663 [==============================] - 20s 1ms/step - loss: 0.6318 - acc: 0.6436 - val_loss: 0.6405 - val_acc: 0.6404\n",
            "Epoch 6/100\n",
            "19663/19663 [==============================] - 20s 1ms/step - loss: 0.6285 - acc: 0.6464 - val_loss: 0.6341 - val_acc: 0.6393\n",
            "Epoch 7/100\n",
            "19663/19663 [==============================] - 20s 1ms/step - loss: 0.6251 - acc: 0.6508 - val_loss: 0.6236 - val_acc: 0.6515\n",
            "Epoch 8/100\n",
            "19663/19663 [==============================] - 20s 1ms/step - loss: 0.6211 - acc: 0.6568 - val_loss: 0.6263 - val_acc: 0.6524\n",
            "Epoch 9/100\n",
            "19663/19663 [==============================] - 20s 1ms/step - loss: 0.6155 - acc: 0.6599 - val_loss: 0.6384 - val_acc: 0.6477\n",
            "Epoch 10/100\n",
            "19663/19663 [==============================] - 20s 1ms/step - loss: 0.6086 - acc: 0.6657 - val_loss: 0.6299 - val_acc: 0.6420\n",
            "Epoch 11/100\n",
            "19663/19663 [==============================] - 20s 1ms/step - loss: 0.6057 - acc: 0.6696 - val_loss: 0.6338 - val_acc: 0.6463\n",
            "Epoch 12/100\n",
            "19663/19663 [==============================] - 20s 1ms/step - loss: 0.5975 - acc: 0.6758 - val_loss: 0.6372 - val_acc: 0.6416\n",
            "Epoch 00012: early stopping\n"
          ],
          "name": "stdout"
        }
      ]
    },
    {
      "metadata": {
        "id": "ycML8V1LuEvs",
        "colab_type": "code",
        "outputId": "6fd3b586-4d4e-4a6f-9d0f-3b0a33eb255e",
        "colab": {
          "base_uri": "https://localhost:8080/",
          "height": 369
        }
      },
      "cell_type": "code",
      "source": [
        "print_model_history(trained_model)\n"
      ],
      "execution_count": 0,
      "outputs": [
        {
          "output_type": "display_data",
          "data": {
            "image/png": "[encoded data removed]",
            "text/plain": [
              "<matplotlib.figure.Figure at 0x7f5c9df37dd8>"
            ]
          },
          "metadata": {
            "tags": []
          }
        }
      ]
    },
    {
      "metadata": {
        "id": "xqqDkLNZuSyE",
        "colab_type": "code",
        "outputId": "0d2e9ed5-9207-411a-b8a0-b5fc891b3dfb",
        "colab": {
          "base_uri": "https://localhost:8080/",
          "height": 68
        }
      },
      "cell_type": "code",
      "source": [
        "Y_pred = model.predict(rev_test)\n",
        "print(Y_pred[:3])"
      ],
      "execution_count": 0,
      "outputs": [
        {
          "output_type": "stream",
          "text": [
            "[[0.9999063 ]\n",
            " [0.99990654]\n",
            " [0.9999062 ]]\n"
          ],
          "name": "stdout"
        }
      ]
    },
    {
      "metadata": {
        "id": "zzDM86_GvEZM",
        "colab_type": "code",
        "outputId": "89be6db9-156e-486e-9e4c-96af64ae6c96",
        "colab": {
          "base_uri": "https://localhost:8080/",
          "height": 122
        }
      },
      "cell_type": "code",
      "source": [
        "from sklearn.metrics import mean_squared_error, r2_score, accuracy_score, precision_recall_fscore_support\n",
        "\n",
        "print(\"Mean squared error: %.2f\" % mean_squared_error(help_test, Y_pred))\n",
        "\n",
        "print(\"R2: %.2f\" % r2_score(help_test, Y_pred))\n",
        "\n",
        "print(\"accuracy: %.2f\" % accuracy_score(help_test, Y_pred>0.5))\n",
        "\n",
        "print(\"P R F1\")\n",
        "print(precision_recall_fscore_support(help_test, Y_pred>0.5))\n"
      ],
      "execution_count": 0,
      "outputs": [
        {
          "output_type": "stream",
          "text": [
            "Mean squared error: 0.22\n",
            "R2: 0.09\n",
            "accuracy: 0.65\n",
            "P R F1\n",
            "(array([0.60555121, 0.68107053]), array([0.57519495, 0.70770568]), array([0.58998286, 0.69413269]), array([2693, 3452]))\n"
          ],
          "name": "stdout"
        }
      ]
    },
    {
      "metadata": {
        "id": "zfWlPQftxFhc",
        "colab_type": "code",
        "outputId": "53681f5f-770c-48a7-c800-603421e15386",
        "colab": {
          "base_uri": "https://localhost:8080/",
          "height": 156
        }
      },
      "cell_type": "code",
      "source": [
        "from sklearn import datasets, linear_model\n",
        "\n",
        "regr = linear_model.LogisticRegression()\n",
        "\n",
        "regr.fit(rat_train,help_train)\n",
        "\n",
        "\n",
        "# Make predictions using the testing set\n",
        "y_pred = regr.predict(rat_test)\n",
        "\n",
        "print(\"Mean squared error: %.2f\" % mean_squared_error(help_test, y_pred))\n",
        "\n",
        "print(\"R2: %.2f\" % r2_score(help_test, y_pred))\n",
        "\n",
        "print(\"accuracy: %.2f\" % accuracy_score(help_test, y_pred>0.5))\n",
        "\n",
        "print(\"P R F1\")\n",
        "print(precision_recall_fscore_support(help_test, y_pred>0.5))\n"
      ],
      "execution_count": 0,
      "outputs": [
        {
          "output_type": "stream",
          "text": [
            "Mean squared error: 0.38\n",
            "R2: -0.55\n",
            "accuracy: 0.62\n",
            "P R F1\n",
            "(array([0.5604547 , 0.67119062]), array([0.60415893, 0.63035921]), array([0.58148678, 0.65013445]), array([2693, 3452]))\n"
          ],
          "name": "stdout"
        },
        {
          "output_type": "stream",
          "text": [
            "/usr/local/lib/python3.6/dist-packages/sklearn/utils/validation.py:578: DataConversionWarning: A column-vector y was passed when a 1d array was expected. Please change the shape of y to (n_samples, ), for example using ravel().\n",
            "  y = column_or_1d(y, warn=True)\n"
          ],
          "name": "stderr"
        }
      ]
    },
    {
      "metadata": {
        "id": "QI1z6sU51CXx",
        "colab_type": "code",
        "outputId": "18ec0a4f-8172-4ee3-b7e2-0dc66d97caab",
        "colab": {
          "base_uri": "https://localhost:8080/",
          "height": 156
        }
      },
      "cell_type": "code",
      "source": [
        "Y_rev_train = model.predict(rev_train)\n",
        "Y_rat_train = np.expand_dims(regr.predict(rat_train), axis = 1)\n",
        "\n",
        "Y_rev_test = model.predict(rev_test)\n",
        "Y_rat_test = np.expand_dims(regr.predict(rat_test), axis = 1)\n",
        "\n",
        "# print(Y_rat_train.shape)\n",
        "# print(Y_rev_train.shape)\n",
        "Y_train = np.hstack((Y_rat_train, Y_rev_train))\n",
        "Y_test = np.hstack((Y_rat_test, Y_rev_test))\n",
        "\n",
        "regr2 = linear_model.LogisticRegression()\n",
        "\n",
        "regr2.fit(Y_train,help_train)\n",
        "\n",
        "\n",
        "# Make predictions using the testing set\n",
        "y_pred = regr2.predict(Y_test)\n",
        "\n",
        "print(\"Mean squared error: %.2f\" % mean_squared_error(help_test, y_pred))\n",
        "\n",
        "print(\"R2: %.2f\" % r2_score(help_test, y_pred))\n",
        "\n",
        "print(\"accuracy: %.2f\" % accuracy_score(help_test, y_pred>0.5))\n",
        "\n",
        "print(\"P R F1\")\n",
        "print(precision_recall_fscore_support(help_test, y_pred>0.5))\n"
      ],
      "execution_count": 0,
      "outputs": [
        {
          "output_type": "stream",
          "text": [
            "Mean squared error: 0.34\n",
            "R2: -0.40\n",
            "accuracy: 0.66\n",
            "P R F1\n",
            "(array([0.61184723, 0.6862252 ]), array([0.58299294, 0.71147161]), array([0.59707169, 0.6986204 ]), array([2693, 3452]))\n"
          ],
          "name": "stdout"
        },
        {
          "output_type": "stream",
          "text": [
            "/usr/local/lib/python3.6/dist-packages/sklearn/utils/validation.py:578: DataConversionWarning: A column-vector y was passed when a 1d array was expected. Please change the shape of y to (n_samples, ), for example using ravel().\n",
            "  y = column_or_1d(y, warn=True)\n"
          ],
          "name": "stderr"
        }
      ]
    },
    {
      "metadata": {
        "id": "ccngaNqid8C_",
        "colab_type": "code",
        "colab": {}
      },
      "cell_type": "code",
      "source": [
        ""
      ],
      "execution_count": 0,
      "outputs": []
    }
  ]
}